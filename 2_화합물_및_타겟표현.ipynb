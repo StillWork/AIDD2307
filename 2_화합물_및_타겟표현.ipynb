{
 "cells": [
  {
   "cell_type": "markdown",
   "metadata": {},
   "source": [
    "# 화합물 및 타겟 표현\n",
    "\n",
    "- Data Representation\n",
    "- [RDKit](https://www.rdkit.org/docs/index.html)을 이용해서 SMILES, Mol 파일, Fingerprint 등 화합물의 여러가지 표현형을 다루는 법을 배운다\n",
    "- RDKit은 화학물질의 여러 특성을 파악하고, 표현형을 바꾸고, 속성을 예측하는데 널리 사용되는 cheminformatics와 머신러닝용 패키지이다"
   ]
  },
  {
   "cell_type": "code",
   "execution_count": 8,
   "metadata": {
    "ExecuteTime": {
     "end_time": "2023-07-01T13:44:37.276226Z",
     "start_time": "2023-07-01T13:44:33.007625Z"
    },
    "scrolled": false
   },
   "outputs": [
    {
     "name": "stdout",
     "output_type": "stream",
     "text": [
      "Looking in indexes: https://pypi.python.org/simple\n",
      "Requirement already satisfied: deepchem in /home/dilab162/anaconda3/lib/python3.9/site-packages (2.7.1)\n",
      "Requirement already satisfied: joblib in /home/dilab162/anaconda3/lib/python3.9/site-packages (from deepchem) (1.1.1)\n",
      "Requirement already satisfied: numpy>=1.21 in /home/dilab162/anaconda3/lib/python3.9/site-packages (from deepchem) (1.21.5)\n",
      "Requirement already satisfied: rdkit in /home/dilab162/anaconda3/lib/python3.9/site-packages (from deepchem) (2022.9.5)\n",
      "Requirement already satisfied: pandas in /home/dilab162/anaconda3/lib/python3.9/site-packages (from deepchem) (1.4.4)\n",
      "Requirement already satisfied: scikit-learn in /home/dilab162/anaconda3/lib/python3.9/site-packages (from deepchem) (1.0.2)\n",
      "Requirement already satisfied: scipy<1.9 in /home/dilab162/anaconda3/lib/python3.9/site-packages (from deepchem) (1.7.3)\n",
      "Requirement already satisfied: python-dateutil>=2.8.1 in /home/dilab162/anaconda3/lib/python3.9/site-packages (from pandas->deepchem) (2.8.2)\n",
      "Requirement already satisfied: pytz>=2020.1 in /home/dilab162/anaconda3/lib/python3.9/site-packages (from pandas->deepchem) (2022.1)\n",
      "Requirement already satisfied: six>=1.5 in /home/dilab162/anaconda3/lib/python3.9/site-packages (from python-dateutil>=2.8.1->pandas->deepchem) (1.16.0)\n",
      "Requirement already satisfied: Pillow in /home/dilab162/anaconda3/lib/python3.9/site-packages (from rdkit->deepchem) (9.2.0)\n",
      "Requirement already satisfied: threadpoolctl>=2.0.0 in /home/dilab162/anaconda3/lib/python3.9/site-packages (from scikit-learn->deepchem) (2.2.0)\n"
     ]
    }
   ],
   "source": [
    "# DeepChem 라이브러리 설치\n",
    "!pip install deepchem"
   ]
  },
  {
   "cell_type": "markdown",
   "metadata": {},
   "source": [
    "## 머신러닝과 데이터 표현형\n",
    "\n",
    "- 현재 머신러닝(machine learning)이 인공지능(artificila intelligence)을 구현하는 주요 기술이다\n",
    "- 머신러닝은 \"데이터 기반\"의 모델을 사용하며 데이터를 보고 학습을 하여 모델의 성능을 점차 높인다\n",
    "- 신약 후보물질을 찾거나, 리드 최적화를 하는 과정은 분자, 단백질 등 대상 물질에서 구조적 또는 기능적 패턴을 잘 찾는 작업을 필요로 한다\n",
    "- 이러한 \"지능적인\" 작업을 머신러닝에게 수행시킬 때 입력 (분자의 특성 등)을 얼마나 잘 표현해주는가에 따라 모델의 성능이 크게 달라진다\n",
    " - 단순 작업인 \"자동화\"에서는 데이터 표현형이 대부분 미리 고정되어 있다\n",
    "\n",
    "\n",
    "\n",
    "\n"
   ]
  },
  {
   "cell_type": "markdown",
   "metadata": {},
   "source": [
    "## 분자 표현형\n",
    "\n",
    "- 분자를 다루는 머신러닝의 성능을 높이려면 모델 입력(X)으로 사용하는 데이터 표현형(representation)을 잘 선택해야 한다\n",
    "- 표현형은 분자의 고유한 특성을 숫자로 표현한 것이다\n",
    "- 전통적으로는, X는 2차원 테이블 구조를 갖고 각 컬럼(특성)을 전문가가 직접 선택하는 방법을 사용한다\n",
    "- 분자 표현형으로는 Descriptors, SMILES, Mol 파일, fingerprint, Graph 등이 있다"
   ]
  },
  {
   "cell_type": "markdown",
   "metadata": {},
   "source": [
    "\n",
    "\n",
    " <img src=\"https://github.com/StillWork/image/blob/main/%E1%84%89%E1%85%B3%E1%84%8F%E1%85%B3%E1%84%85%E1%85%B5%E1%86%AB%E1%84%89%E1%85%A3%E1%86%BA%202022-11-22%20%E1%84%8B%E1%85%A9%E1%84%92%E1%85%AE%205.13.29.png?raw=1\" align=\"left\" width=1500>"
   ]
  },
  {
   "cell_type": "markdown",
   "metadata": {},
   "source": [
    "### 1. SMILES\n",
    "- Simplified Molecular Input Line Entry System\n",
    "- 매우 간편한 분자 표현 방식이다. 알파벳으로 된 원자 기호를 사용한다\n",
    "- Single bonds는 생략하고 double, triple, quadruple bond는 각각 '=', '#', '$' 로 표현한다\n",
    "- 링구조는 시작과 끝 원자에 숫자를 붙인다\n",
    "- 아로마틱 원자는 소문자로 표현한다: b, c, n, o, p, s 등\n",
    "\n",
    "- 예:\n",
    "\n",
    "<img src=\"http://www.daylight.com/dayhtml/doc/theory/theory4.gif\"/>\n",
    "\n",
    "- SMILES의 장점:\n",
    " - 읽기 쉽고 사람이 작성하기도 쉽다.\n",
    " - 문장처럼, 문자열 처리 방식으로 처리가 가능하다\n",
    "\n",
    "- 단점:\n",
    " - 분자의 공간적인 정보는 표현하지 못한다\n",
    " - 동일한 분자에 대해서도 서로다른 다양한 표현법이 있을 수 있다"
   ]
  },
  {
   "cell_type": "code",
   "execution_count": 1,
   "metadata": {
    "ExecuteTime": {
     "end_time": "2023-07-01T13:48:14.769961Z",
     "start_time": "2023-07-01T13:48:14.753469Z"
    }
   },
   "outputs": [
    {
     "data": {
      "text/plain": [
       "{'Glycine': 'C(C(=O)O)N',\n",
       " 'Phenylalanine': 'N[C@@H](CC1=CC=CC=C1)C(O)=O',\n",
       " 'Histidine': 'O=C([C@H](CC1=CNC=N1)N)O',\n",
       " 'Cysteine': 'C([C@@H](C(=O)O)N)S'}"
      ]
     },
     "execution_count": 1,
     "metadata": {},
     "output_type": "execute_result"
    }
   ],
   "source": [
    "# Glycine, Phenylalanine, Histidine, Cysteine 의 SMILES 데이터\n",
    "smiles_dict = {'Glycine' : 'C(C(=O)O)N', 'Phenylalanine' : 'N[C@@H](CC1=CC=CC=C1)C(O)=O', 'Histidine' : 'O=C([C@H](CC1=CNC=N1)N)O', 'Cysteine' : 'C([C@@H](C(=O)O)N)S'}\n",
    "smiles_dict"
   ]
  },
  {
   "cell_type": "markdown",
   "metadata": {},
   "source": [
    "### 2. Descriptors\n",
    "\n",
    "- 2차원 테이블 구조의, 정형화된 특성 테이블을 만들고 각 컬럼(특성)으로 분자량, 용해도, 독성, 3차원 정보, 질량, 극성, 아로마틱 등 분자의 descriptors들을 사용하는 경우이다\n",
    "- 분석 목적에 따라 필요한 특성을 선택(feature selection)하거나 다양한 특성 변환 등 데이터 전처리가 필요하다\n",
    " - 이와 같이 최적의 특성을 준비하는 작업을 특성 공학 (feature engineering)이라고 한다"
   ]
  },
  {
   "cell_type": "code",
   "execution_count": 2,
   "metadata": {
    "ExecuteTime": {
     "end_time": "2023-07-01T13:48:15.440896Z",
     "start_time": "2023-07-01T13:48:15.320879Z"
    }
   },
   "outputs": [
    {
     "data": {
      "text/plain": [
       "{'Glycine': <rdkit.Chem.rdchem.Mol at 0x7f4f402c6270>,\n",
       " 'Phenylalanine': <rdkit.Chem.rdchem.Mol at 0x7f4f402c62e0>,\n",
       " 'Histidine': <rdkit.Chem.rdchem.Mol at 0x7f4f402c6350>,\n",
       " 'Cysteine': <rdkit.Chem.rdchem.Mol at 0x7f4f402c63c0>}"
      ]
     },
     "execution_count": 2,
     "metadata": {},
     "output_type": "execute_result"
    }
   ],
   "source": [
    "from rdkit import Chem\n",
    "from rdkit.Chem import Descriptors\n",
    "# Descriptors를 계산하기 위해 RDKit에서 제공하는 rdkit.Chem.rdchem.Mol 객체로 변환하여 mol_dict에 key와 value로 저장\n",
    "mol_dict = {}\n",
    "for molecule in smiles_dict.keys():\n",
    "    mol = Chem.MolFromSmiles(smiles_dict[molecule])\n",
    "    mol_dict[molecule] = mol\n",
    "mol_dict"
   ]
  },
  {
   "cell_type": "code",
   "execution_count": 3,
   "metadata": {
    "ExecuteTime": {
     "end_time": "2023-07-01T13:48:15.562903Z",
     "start_time": "2023-07-01T13:48:15.549052Z"
    }
   },
   "outputs": [
    {
     "data": {
      "image/png": "[encoded data removed]",
      "text/plain": [
       "<rdkit.Chem.rdchem.Mol at 0x7f4f402c6270>"
      ]
     },
     "execution_count": 3,
     "metadata": {},
     "output_type": "execute_result"
    }
   ],
   "source": [
    "# 시각화\n",
    "mol_dict['Glycine'] # 실습 : key값을 바꿔가며 다른 화합물의 형태로 확인해본다"
   ]
  },
  {
   "cell_type": "code",
   "execution_count": 4,
   "metadata": {
    "ExecuteTime": {
     "end_time": "2023-07-01T13:48:16.133705Z",
     "start_time": "2023-07-01T13:48:16.072630Z"
    }
   },
   "outputs": [
    {
     "name": "stdout",
     "output_type": "stream",
     "text": [
      "Glycine의 분자량 :  75.0320284\n",
      "Glycine의 수소를 제외한 원자 개수 :  10\n",
      "Glycine의 수소를 제외한 원자 개수 :  5\n",
      "\n",
      "{'MaxAbsEStateIndex': 9.243055555555555, 'MaxEStateIndex': 9.243055555555555, 'MinAbsEStateIndex': 0.2777777777777779, 'MinEStateIndex': -0.9675925925925923, 'qed': 0.42117088793654706, 'MolWt': 75.06700000000001, 'HeavyAtomMolWt': 70.027, 'ExactMolWt': 75.0320284, 'NumValenceElectrons': 30, 'NumRadicalElectrons': 0, 'MaxPartialCharge': 0.31675597840558584, 'MinPartialCharge': -0.4802971300243957, 'MaxAbsPartialCharge': 0.4802971300243957, 'MinAbsPartialCharge': 0.31675597840558584, 'FpDensityMorgan1': 2.0, 'FpDensityMorgan2': 2.2, 'FpDensityMorgan3': 2.2, 'BCUT2D_MWHI': 16.366059254527027, 'BCUT2D_MWLOW': 10.717499991234309, 'BCUT2D_CHGHI': 1.8050321424204203, 'BCUT2D_CHGLO': -1.726114540149436, 'BCUT2D_LOGPHI': 1.4339024756587613, 'BCUT2D_LOGPLOW': -2.104229346355766, 'BCUT2D_MRHI': 5.680936538605497, 'BCUT2D_MRLOW': -0.1348391979770351, 'AvgIpc': 1.3787834934861756, 'BalabanJ': 2.847378923087672, 'BertzCT': 42.91260938324327, 'Chi0': 4.284457050376173, 'Chi0n': 2.639918936339994, 'Chi0v': 2.639918936339994, 'Chi1': 2.270055610029662, 'Chi1n': 1.1895326240390474, 'Chi1v': 1.1895326240390474, 'Chi2n': 0.5978626884552846, 'Chi2v': 0.5978626884552846, 'Chi3n': 0.17462042625086105, 'Chi3v': 0.17462042625086105, 'Chi4n': 0.0, 'Chi4v': 0.0, 'HallKierAlpha': -0.5700000000000001, 'Ipc': 9.65148445440323, 'Kappa1': 4.43, 'Kappa2': 1.7215451895043727, 'Kappa3': 3.429999999999999, 'LabuteASA': 29.39983969147865, 'PEOE_VSA1': 10.84019487200289, 'PEOE_VSA10': 0.0, 'PEOE_VSA11': 0.0, 'PEOE_VSA12': 0.0, 'PEOE_VSA13': 0.0, 'PEOE_VSA14': 5.969305287951849, 'PEOE_VSA2': 4.794537184071822, 'PEOE_VSA3': 0.0, 'PEOE_VSA4': 0.0, 'PEOE_VSA5': 0.0, 'PEOE_VSA6': 0.0, 'PEOE_VSA7': 0.0, 'PEOE_VSA8': 0.0, 'PEOE_VSA9': 6.544756405912575, 'SMR_VSA1': 9.901064578912528, 'SMR_VSA10': 5.969305287951849, 'SMR_VSA2': 0.0, 'SMR_VSA3': 0.0, 'SMR_VSA4': 5.733667477162185, 'SMR_VSA5': 0.0, 'SMR_VSA6': 6.544756405912575, 'SMR_VSA7': 0.0, 'SMR_VSA8': 0.0, 'SMR_VSA9': 0.0, 'SlogP_VSA1': 5.733667477162185, 'SlogP_VSA10': 0.0, 'SlogP_VSA11': 0.0, 'SlogP_VSA12': 0.0, 'SlogP_VSA2': 17.62058908870513, 'SlogP_VSA3': 4.794537184071822, 'SlogP_VSA4': 0.0, 'SlogP_VSA5': 0.0, 'SlogP_VSA6': 0.0, 'SlogP_VSA7': 0.0, 'SlogP_VSA8': 0.0, 'SlogP_VSA9': 0.0, 'TPSA': 63.31999999999999, 'EState_VSA1': 5.969305287951849, 'EState_VSA10': 4.794537184071822, 'EState_VSA11': 0.0, 'EState_VSA2': 6.544756405912575, 'EState_VSA3': 0.0, 'EState_VSA4': 0.0, 'EState_VSA5': 0.0, 'EState_VSA6': 0.0, 'EState_VSA7': 0.0, 'EState_VSA8': 5.733667477162185, 'EState_VSA9': 5.106527394840706, 'VSA_EState1': 0.0, 'VSA_EState10': 0.0, 'VSA_EState2': 9.243055555555555, 'VSA_EState3': 7.597222222222222, 'VSA_EState4': 4.5717592592592595, 'VSA_EState5': -0.9675925925925923, 'VSA_EState6': 0.0, 'VSA_EState7': 0.0, 'VSA_EState8': -0.2777777777777779, 'VSA_EState9': 0.0, 'FractionCSP3': 0.5, 'HeavyAtomCount': 5, 'NHOHCount': 3, 'NOCount': 3, 'NumAliphaticCarbocycles': 0, 'NumAliphaticHeterocycles': 0, 'NumAliphaticRings': 0, 'NumAromaticCarbocycles': 0, 'NumAromaticHeterocycles': 0, 'NumAromaticRings': 0, 'NumHAcceptors': 2, 'NumHDonors': 2, 'NumHeteroatoms': 3, 'NumRotatableBonds': 1, 'NumSaturatedCarbocycles': 0, 'NumSaturatedHeterocycles': 0, 'NumSaturatedRings': 0, 'RingCount': 0, 'MolLogP': -0.9702999999999999, 'MolMR': 16.6902, 'fr_Al_COO': 1, 'fr_Al_OH': 0, 'fr_Al_OH_noTert': 0, 'fr_ArN': 0, 'fr_Ar_COO': 0, 'fr_Ar_N': 0, 'fr_Ar_NH': 0, 'fr_Ar_OH': 0, 'fr_COO': 1, 'fr_COO2': 1, 'fr_C_O': 1, 'fr_C_O_noCOO': 0, 'fr_C_S': 0, 'fr_HOCCN': 0, 'fr_Imine': 0, 'fr_NH0': 0, 'fr_NH1': 0, 'fr_NH2': 1, 'fr_N_O': 0, 'fr_Ndealkylation1': 0, 'fr_Ndealkylation2': 0, 'fr_Nhpyrrole': 0, 'fr_SH': 0, 'fr_aldehyde': 0, 'fr_alkyl_carbamate': 0, 'fr_alkyl_halide': 0, 'fr_allylic_oxid': 0, 'fr_amide': 0, 'fr_amidine': 0, 'fr_aniline': 0, 'fr_aryl_methyl': 0, 'fr_azide': 0, 'fr_azo': 0, 'fr_barbitur': 0, 'fr_benzene': 0, 'fr_benzodiazepine': 0, 'fr_bicyclic': 0, 'fr_diazo': 0, 'fr_dihydropyridine': 0, 'fr_epoxide': 0, 'fr_ester': 0, 'fr_ether': 0, 'fr_furan': 0, 'fr_guanido': 0, 'fr_halogen': 0, 'fr_hdrzine': 0, 'fr_hdrzone': 0, 'fr_imidazole': 0, 'fr_imide': 0, 'fr_isocyan': 0, 'fr_isothiocyan': 0, 'fr_ketone': 0, 'fr_ketone_Topliss': 0, 'fr_lactam': 0, 'fr_lactone': 0, 'fr_methoxy': 0, 'fr_morpholine': 0, 'fr_nitrile': 0, 'fr_nitro': 0, 'fr_nitro_arom': 0, 'fr_nitro_arom_nonortho': 0, 'fr_nitroso': 0, 'fr_oxazole': 0, 'fr_oxime': 0, 'fr_para_hydroxylation': 0, 'fr_phenol': 0, 'fr_phenol_noOrthoHbond': 0, 'fr_phos_acid': 0, 'fr_phos_ester': 0, 'fr_piperdine': 0, 'fr_piperzine': 0, 'fr_priamide': 0, 'fr_prisulfonamd': 0, 'fr_pyridine': 0, 'fr_quatN': 0, 'fr_sulfide': 0, 'fr_sulfonamd': 0, 'fr_sulfone': 0, 'fr_term_acetylene': 0, 'fr_tetrazole': 0, 'fr_thiazole': 0, 'fr_thiocyan': 0, 'fr_thiophene': 0, 'fr_unbrch_alkane': 0, 'fr_urea': 0}\n",
      "\n",
      "아래 두 출력이 동일함을 확인\n",
      "Glycine의 MaxAbsEStateIndex :  9.243055555555555\n",
      "Glycine의 MaxAbsEStateIndex :  9.243055555555555\n"
     ]
    }
   ],
   "source": [
    "# 확인할 화합물 변수 저장\n",
    "molecule = 'Glycine'\n",
    "\n",
    "# 분자량\n",
    "print(f'{molecule}의 분자량 : ', Descriptors.ExactMolWt(mol_dict[molecule]))\n",
    "\n",
    "# 원자 개수 <AddHs() :  mol 객체에 수소 원자를 추가로 표시한다>\n",
    "print(f'{molecule}의 수소를 제외한 원자 개수 : ', Chem.AddHs(mol_dict[molecule]).GetNumAtoms())\n",
    "print(f'{molecule}의 수소를 제외한 원자 개수 : ', Chem.AddHs(mol_dict[molecule]).GetNumHeavyAtoms(), end='\\n\\n')\n",
    "\n",
    "# 한번에 여러가지 특성을 출력 (반환되는 딕셔너리의 key 값은 모두 RDKit의 Descriptors에서 제공하는 함수이다. 아래 예시를 통해 확인)\n",
    "Desc_dict = Descriptors.CalcMolDescriptors(mol_dict[molecule])\n",
    "print(Desc_dict)\n",
    "\n",
    "# 두 출력이 동일함을 확인\n",
    "print('\\n아래 두 출력이 동일함을 확인')\n",
    "print(f'{molecule}의 MaxAbsEStateIndex : ', Desc_dict['MaxAbsEStateIndex'])\n",
    "print(f'{molecule}의 MaxAbsEStateIndex : ', Descriptors.MaxAbsEStateIndex(mol_dict[molecule]))\n",
    "\n",
    "# 실습 : molecule에 저장된 값을 바꿔가며 다른 화합물의 특성도 확인한다."
   ]
  },
  {
   "cell_type": "markdown",
   "metadata": {},
   "source": [
    "### 3. Mol file\n",
    "\n",
    "- SMILES는 한 줄의 스트링(문자열)로 분자를 표현하나, Mol 파일은 분자에 대한 상세한 정보를 텍스트 파일로 상세하게 표현한다: atoms, bonds, connectivity, 좌표정보 등을 포함한다\n",
    "\n",
    "- MOL 파일 예:\n",
    "\n",
    "<img src=\"https://chem.libretexts.org/@api/deki/files/112699/MOL_FILE_1.png?revision=1&size=bestfit&width=777&height=601\"/>\n",
    "\n",
    "- 장점:\n",
    "    - 공간 정보를 포함한다(2D or 3D)\n",
    "    - 각 분자에 대해서 동일한 하나의 표현을 갖는다\n",
    "\n",
    "- 단점:\n",
    "    - SMILES에 비해서 표현형의 크기가 크다\n",
    "    - 개인이 작성하기 어렵고 필요한 특성 정보를 컴퓨터가 인식하게 하려면 새로운 데이터 처리가 필요하다"
   ]
  },
  {
   "cell_type": "code",
   "execution_count": 7,
   "metadata": {},
   "outputs": [
    {
     "name": "stdout",
     "output_type": "stream",
     "text": [
      "\n",
      "     RDKit          2D\n",
      "\n",
      "  5  4  0  0  0  0  0  0  0  0999 V2000\n",
      "    0.0000    0.0000    0.0000 C   0  0  0  0  0  0  0  0  0  0  0  0\n",
      "    1.2990    0.7500    0.0000 C   0  0  0  0  0  0  0  0  0  0  0  0\n",
      "    1.2990    2.2500    0.0000 O   0  0  0  0  0  0  0  0  0  0  0  0\n",
      "    2.5981   -0.0000    0.0000 O   0  0  0  0  0  0  0  0  0  0  0  0\n",
      "   -1.2990    0.7500    0.0000 N   0  0  0  0  0  0  0  0  0  0  0  0\n",
      "  1  2  1  0\n",
      "  2  3  2  0\n",
      "  2  4  1  0\n",
      "  1  5  1  0\n",
      "M  END\n",
      "\n"
     ]
    }
   ],
   "source": [
    "# 확인할 화합물 변수 저장\n",
    "molecule = 'Glycine'\n",
    "\n",
    "# rdkit.Chem.rdchem.Mol 객체를 MOL 블록으로 출력\n",
    "print(Chem.MolToMolBlock(mol_dict[molecule]))\n"
   ]
  },
  {
   "cell_type": "code",
   "execution_count": 1,
   "metadata": {
    "ExecuteTime": {
     "end_time": "2023-07-09T17:41:46.851310Z",
     "start_time": "2023-07-09T17:41:46.725391Z"
    }
   },
   "outputs": [
    {
     "name": "stdout",
     "output_type": "stream",
     "text": [
      "mkdir: `data' 디렉토리를 만들 수 없습니다: 파일이 있습니다\r\n"
     ]
    }
   ],
   "source": [
    "!mkdir data"
   ]
  },
  {
   "cell_type": "code",
   "execution_count": 8,
   "metadata": {},
   "outputs": [],
   "source": [
    "# 화합물의 MOL 블록을 mol file로 저장\n",
    "molecule = 'Glycine'\n",
    "with Chem.SDWriter(f'data/{molecule}.mol') as w:\n",
    "    w.write(mol_dict[molecule])\n",
    "        \n",
    "# data 폴더에 저장이 되었는지 확인해본다. (메모장에 drag & drop으로 확인 가능)\n",
    "# 실습 : Phenylalanine, Histidine, Cysteine를 위와 같은 방법으로 저장해본다."
   ]
  },
  {
   "cell_type": "code",
   "execution_count": 9,
   "metadata": {},
   "outputs": [],
   "source": [
    "# 파일 하나에 여러 화합물을 저장할 때는 sdf 확장자로 저장한다.\n",
    "with Chem.SDWriter(f'data/ALL.mol') as w:\n",
    "    for molecule in mol_dict.keys():\n",
    "        w.write(mol_dict[molecule])\n",
    "        \n",
    "# data 폴더에 저장이 되었는지 확인해본다. (메모장에 drag & drop으로 확인 가능)"
   ]
  },
  {
   "cell_type": "markdown",
   "metadata": {},
   "source": [
    "### 4. Coulomb matrices\n",
    "\n",
    "\n",
    "- 분자 특성을 Schrödinger 방정식으로부터 추출할 수 있다는 가정에 출발\n",
    "- 원자 좌표값과 전하량 등을 고려하여 분자의 구조를 표현한다\n",
    "\n",
    "- 장점:\n",
    " - 물리 화학적으로 명확한 표현법을 제공\n",
    "\n",
    "- 단점:\n",
    " - 계산량이 많으며 관련 데이터를 다량 확보하기기 어렵다"
   ]
  },
  {
   "cell_type": "code",
   "execution_count": 10,
   "metadata": {},
   "outputs": [
    {
     "data": {
      "image/png": "[encoded data removed]",
      "text/plain": [
       "<rdkit.Chem.rdchem.Mol at 0x16a28c95770>"
      ]
     },
     "execution_count": 10,
     "metadata": {},
     "output_type": "execute_result"
    }
   ],
   "source": [
    "mol_dict['Glycine']"
   ]
  },
  {
   "cell_type": "code",
   "execution_count": 11,
   "metadata": {},
   "outputs": [
    {
     "data": {
      "image/png": "[encoded data removed]",
      "text/plain": [
       "<rdkit.Chem.rdchem.Mol at 0x16a28ca8ba0>"
      ]
     },
     "execution_count": 11,
     "metadata": {},
     "output_type": "execute_result"
    }
   ],
   "source": [
    "from rdkit.Chem import AllChem\n",
    "from rdkit.Chem.rdMolDescriptors import CalcCoulombMat\n",
    "\n",
    "# 기존 화합물에 수소원자를 추가로 표시하고 EmbedMolecule를 통해 좌표정보를 추가한다\n",
    "for molecule in mol_dict.keys():\n",
    "    mol_dict[molecule] = Chem.AddHs(mol_dict[molecule])\n",
    "    AllChem.EmbedMolecule(mol_dict[molecule])\n",
    "    \n",
    "# 이미지가 입체적으로 바뀐것을 볼 수 있다 (위 셀의 이미지와 비교)\n",
    "mol_dict['Glycine']"
   ]
  },
  {
   "cell_type": "code",
   "execution_count": 12,
   "metadata": {},
   "outputs": [
    {
     "name": "stdout",
     "output_type": "stream",
     "text": [
      "(<rdkit.rdBase._vectdouble object at 0x0000016A09ECF440>, <rdkit.rdBase._vectdouble object at 0x0000016A28C9C6C0>, <rdkit.rdBase._vectdouble object at 0x0000016A28C9C640>, <rdkit.rdBase._vectdouble object at 0x0000016A28C9C540>, <rdkit.rdBase._vectdouble object at 0x0000016A28C9C740>, <rdkit.rdBase._vectdouble object at 0x0000016A28C9C7C0>, <rdkit.rdBase._vectdouble object at 0x0000016A28C9C840>, <rdkit.rdBase._vectdouble object at 0x0000016A28C9C8C0>, <rdkit.rdBase._vectdouble object at 0x0000016A28C9C940>, <rdkit.rdBase._vectdouble object at 0x0000016A28C9CA40>)\n",
      "[36.85810519942594, 24.264586811144078, 20.23550603150584, 19.02246352100766, 29.211986844300213, 5.398669279998304, 5.345836783081967, 1.7635451073069892, 2.900844732128948, 2.8990335119232693]\n"
     ]
    }
   ],
   "source": [
    "CM = CalcCoulombMat(mol_dict['Glycine']) # Coulomb matrices 계산\n",
    "print(CM) # Coulomb matrices값을 가지고 있는 튜플 출력\n",
    "print(list(CM[0])) # 첫 번째 객체를 리스트로 출력"
   ]
  },
  {
   "cell_type": "markdown",
   "metadata": {},
   "source": [
    "### 5. fingerprint\n",
    "\n",
    "- 분자를 구성하는 각 원자의 특성과 결합 등을 기반으로 어떤 '숫자'들을 만들고 이를 주변의 다른 원자들과의 연결 정보를 반복적으로 추가하여 특성을 업데이트 하는 방식이다\n",
    "- 각 분자의 특성을 **일정한 길이**의 비트 패턴으로 표현한다 (1024, 2048 비트 등)\n",
    "- 크기가 일정한 표현형이라는 장점이 있다\n",
    "- 두 분자의 특성이 유사하다면 fingerprint의 같은 위치의 비트값이 일치하는 수가 많도록 정의하였다\n",
    " - 각 비트는 어떤 특징의 존재 여부 또는 하부구조의 존재 여부 등을 나타낸다\n",
    "- Extended Connectivity Fingerprint (ECFP)가 널리 사용된다\n",
    " - circular fingerprint라고도 부른다\n",
    "- 이외에도 여러가지 방식의 FP가 연구되었다: 공간정보 이용, 하부구조 반영 등\n",
    "- fingerprint는 분자를 찾는 키와 같은 역할을 한다\n",
    " - fingerprint는 Feature Hashing 기법이라고도 부른다\n",
    "\n"
   ]
  },
  {
   "cell_type": "code",
   "execution_count": 24,
   "metadata": {},
   "outputs": [
    {
     "name": "stdout",
     "output_type": "stream",
     "text": [
      "<rdkit.DataStructs.cDataStructs.ExplicitBitVect object at 0x0000016A28CAB610>\n",
      "[0. 0. 0. 0. 0. 0. 0. 0. 0. 0. 0. 0. 0. 0. 0. 0. 0. 0. 0. 0. 0. 0. 0. 0.\n",
      " 0. 0. 0. 0. 0. 0.]\n",
      "(array([ 80,  83, 124, 126, 147, 300, 341, 470, 490, 503, 628, 650, 713,\n",
      "       796, 807, 893, 937], dtype=int64),)\n"
     ]
    }
   ],
   "source": [
    "import numpy as np\n",
    "from rdkit import DataStructs\n",
    "\n",
    "# MorganFingerprint를 얻고 값이 1인 위치를 찾는다\n",
    "# GetMorganFingerprintAsBitVect() 함수 사용\n",
    "\n",
    "# glycine를 fingerprint로 표현\n",
    "bi= {}\n",
    "fp = AllChem.GetMorganFingerprintAsBitVect(mol_dict['Glycine'], 2, nBits=1024, bitInfo=bi)\n",
    "print(fp)\n",
    "fp_arr = np.zeros((1,)) # array([0.])\n",
    "\n",
    "DataStructs.ConvertToNumpyArray(fp,fp_arr) # numpy array로 변환\n",
    "print(fp_arr[:30])\n",
    "print(np.nonzero(fp_arr)) # 0이 아닌 값의 위치(index)를 알려준다"
   ]
  },
  {
   "cell_type": "code",
   "execution_count": 18,
   "metadata": {},
   "outputs": [
    {
     "name": "stdout",
     "output_type": "stream",
     "text": [
      "<class 'rdkit.DataStructs.cDataStructs.ExplicitBitVect'>\n",
      "<class 'numpy.ndarray'>\n",
      "1024\n"
     ]
    }
   ],
   "source": [
    "print(type(fp))\n",
    "print(type(fp_arr))\n",
    "print(len(fp))"
   ]
  },
  {
   "cell_type": "markdown",
   "metadata": {},
   "source": [
    "#### Fingerprint 비트 정보 보기\n",
    "- GetOnBits() 함수 사용"
   ]
  },
  {
   "cell_type": "code",
   "execution_count": 27,
   "metadata": {},
   "outputs": [
    {
     "data": {
      "image/png": "[encoded data removed]",
      "text/plain": [
       "<PIL.PngImagePlugin.PngImageFile image mode=RGB size=900x450>"
      ]
     },
     "execution_count": 27,
     "metadata": {},
     "output_type": "execute_result"
    }
   ],
   "source": [
    "from rdkit.Chem import Draw\n",
    "\n",
    "points = [(mol_dict['Glycine'], x, bi) for x in fp.GetOnBits()]\n",
    "Draw.DrawMorganBits(points, molsPerRow=6, legends = [str(x) for x in fp.GetOnBits()])"
   ]
  },
  {
   "cell_type": "markdown",
   "metadata": {},
   "source": [
    "#### 두 분자의 유사도 비교\n",
    "- fingerprint를 사용하여 두 분자의 특성이 얼마나 비슷한지를 파악한다\n",
    "- Tanimoto Similarity는 두 분자의 fingerprint 들의 겹치는 정도를 측정한다 (교집합/합집합)\n",
    "\n",
    "- glycine, cysteine 비교"
   ]
  },
  {
   "cell_type": "markdown",
   "metadata": {},
   "source": [
    "<img src=\"https://github.com/StillWork/image/blob/main/%E1%84%89%E1%85%B3%E1%84%8F%E1%85%B3%E1%84%85%E1%85%B5%E1%86%AB%E1%84%89%E1%85%A3%E1%86%BA%202022-11-24%20%E1%84%8B%E1%85%A9%E1%84%8C%E1%85%A5%E1%86%AB%2012.05.25.png?raw=1\" width= 300 align='left'>"
   ]
  },
  {
   "cell_type": "code",
   "execution_count": 28,
   "metadata": {},
   "outputs": [
    {
     "data": {
      "image/png": "[encoded data removed]",
      "text/plain": [
       "<IPython.core.display.Image object>"
      ]
     },
     "execution_count": 28,
     "metadata": {},
     "output_type": "execute_result"
    }
   ],
   "source": [
    "img = Draw.MolsToGridImage([mol_dict['Glycine'], mol_dict['Phenylalanine']], molsPerRow=4)\n",
    "img"
   ]
  },
  {
   "cell_type": "code",
   "execution_count": 29,
   "metadata": {},
   "outputs": [
    {
     "name": "stdout",
     "output_type": "stream",
     "text": [
      "cysteine [1, 49, 59, 80, 99, 124, 126, 147, 241, 337, 341, 350, 356, 363, 526, 602, 628, 632, 650, 656, 716, 730, 733, 807, 820, 845, 848, 849, 893, 937]\n",
      "glycine [80, 83, 124, 126, 147, 300, 341, 470, 490, 503, 628, 650, 713, 796, 807, 893, 937]\n"
     ]
    }
   ],
   "source": [
    "fp2 = AllChem.GetMorganFingerprintAsBitVect(mol_dict['Phenylalanine'], 2, nBits=1024, bitInfo=bi)\n",
    "print('cysteine',list(fp2.GetOnBits()))\n",
    "print('glycine',list(fp.GetOnBits()))"
   ]
  },
  {
   "cell_type": "code",
   "execution_count": 30,
   "metadata": {},
   "outputs": [
    {
     "name": "stdout",
     "output_type": "stream",
     "text": [
      "{807, 937, 650, 80, 147, 628, 341, 124, 893, 126}\n",
      "{1, 650, 526, 656, 147, 796, 807, 937, 300, 49, 820, 59, 713, 716, 845, 80, 337, 848, 849, 83, 341, 470, 602, 730, 733, 350, 99, 356, 490, 363, 241, 628, 503, 632, 124, 893, 126}\n",
      "0.2702702702702703\n",
      "0.2702702702702703\n"
     ]
    }
   ],
   "source": [
    "common = set(fp2.GetOnBits()) & set(fp.GetOnBits())\n",
    "combined = set(fp2.GetOnBits()) | set(fp.GetOnBits())\n",
    "print(common)\n",
    "print(combined)\n",
    "\n",
    "# 직접 계산\n",
    "print(len(common)/len(combined))\n",
    "\n",
    "# TanimotoSimilarity()를 사용하는 방법\n",
    "print(DataStructs.TanimotoSimilarity(fp, fp2))"
   ]
  },
  {
   "cell_type": "markdown",
   "metadata": {},
   "source": [
    "### 6. 그래프\n",
    "\n",
    "- 분자를 구성하는 원자와 결합을 노드와 엣지로 표현하는 방식이다\n",
    "- 최근 분자 표현형으로 그래프가 널리 사용되고 머신러닝 모델의 성능을 개선시켰다\n",
    "- 그래프 컨볼류션 네크워크 등 그래프를 지원하는 딥러닝 모델에서 사용된다 \n",
    "\n",
    "![분자 그래프](https://github.com/deepchem/deepchem/blob/master/examples/tutorials/assets/basic_graphs.gif?raw=1)"
   ]
  },
  {
   "cell_type": "code",
   "execution_count": 34,
   "metadata": {},
   "outputs": [],
   "source": [
    "import networkx as nx\n",
    "\n",
    "#networkx 모듈을 통해 분자를 그래프로 표현하는 함수\n",
    "def mol_to_nx(mol):\n",
    "    G = nx.Graph() #빈 그래프 생성\n",
    "\n",
    "    for atom in mol.GetAtoms(): #빈 그래프에 atome 추가하기\n",
    "        G.add_node(atom.GetIdx(),\n",
    "                   atomic_num=atom.GetAtomicNum(),\n",
    "                   is_aromatic=atom.GetIsAromatic(),\n",
    "                   atom_symbol=atom.GetSymbol())\n",
    "        \n",
    "    for bond in mol.GetBonds(): #빈 그래프에 bond 추가하기\n",
    "        G.add_edge(bond.GetBeginAtomIdx(),\n",
    "                   bond.GetEndAtomIdx(),\n",
    "                   bond_type=bond.GetBondType())\n",
    "        \n",
    "    return G\n"
   ]
  },
  {
   "cell_type": "code",
   "execution_count": 40,
   "metadata": {},
   "outputs": [
    {
     "data": {
      "text/plain": [
       "{0: 'C',\n",
       " 1: 'C',\n",
       " 2: 'O',\n",
       " 3: 'O',\n",
       " 4: 'N',\n",
       " 5: 'H',\n",
       " 6: 'H',\n",
       " 7: 'H',\n",
       " 8: 'H',\n",
       " 9: 'H'}"
      ]
     },
     "execution_count": 40,
     "metadata": {},
     "output_type": "execute_result"
    }
   ],
   "source": [
    "import matplotlib.pyplot as plt\n",
    "\n",
    "Glycine_nx = mol_to_nx(mol_dict['Glycine']) # 위에 셀에서 정의한 함수을 통해 그래프로 변환\n",
    "\n",
    "Glycine_atom = nx.get_node_attributes(Glycine_nx, 'atom_symbol') # 분자를 구성하는 원소 인덱싱\n",
    "\n",
    "Glycine_atom"
   ]
  },
  {
   "cell_type": "code",
   "execution_count": 43,
   "metadata": {},
   "outputs": [
    {
     "data": {
      "image/png": "[encoded data removed]",
      "text/plain": [
       "<Figure size 640x480 with 1 Axes>"
      ]
     },
     "metadata": {},
     "output_type": "display_data"
    },
    {
     "data": {
      "image/png": "[encoded data removed]",
      "text/plain": [
       "<rdkit.Chem.rdchem.Mol at 0x16a28ca8ba0>"
      ]
     },
     "execution_count": 43,
     "metadata": {},
     "output_type": "execute_result"
    }
   ],
   "source": [
    "# 그래프 구조를 시각화 하기 위해 각 원소의 색을 지정\n",
    "color_map = {'H': 'cyan',\n",
    "             'C': 'red',\n",
    "             'O': 'orange',\n",
    "             'N': 'magenta'}\n",
    "\n",
    "caffeine_colors = []\n",
    "\n",
    "# 각 노드의 순서대로 원소에 맞는 색을 caffeine_colors 리스트에 저장\n",
    "for idx in Glycine_nx.nodes():\n",
    "    caffeine_colors.append(color_map[Glycine_nx.nodes[idx]['atom_symbol']])\n",
    "\n",
    "    \n",
    "nx.draw(Glycine_nx,\n",
    "        labels=Glycine_atom,\n",
    "        with_labels = True,\n",
    "        node_color=caffeine_colors,\n",
    "        node_size=800)\n",
    "\n",
    "plt.show()\n",
    "mol_dict['Glycine']"
   ]
  },
  {
   "cell_type": "markdown",
   "metadata": {},
   "source": [
    "## Feature Learning\n",
    "\n",
    "- 분석에 도움이 되는 특성(feature)를 선택하는 작업을 특성 공학(feature engineering)이라고 하며 주로 이 분야의 전문가가 작업하였다\n",
    "- 적절한 molecular descriptor를 찾아내는 작업 등\n",
    "- 특성 공학은 시간이 오래 걸리고 어려운 작업이며 작업자마다 결과가 다를 수 있다\n",
    "- 딥러닝 모델은 feature learning을 수행하여 특성 공학과 같은 작업을 대신해준다\n",
    "- feature learning을 representation lerning이라고도 부른다\n",
    "- 사람의 개입이 아니라 데이터로부터 머신러닝 모델이 특성을 추출하는 것이다\n",
    "- 이러한 방식은 이미지 인식, 언어 이해 분야에서 이미 성과를 입증했고 이제 ligand-based virtual screening 등 화학정보학, 생물정보학에도 널리 사용되고 있다"
   ]
  },
  {
   "cell_type": "code",
   "execution_count": 26,
   "metadata": {},
   "outputs": [],
   "source": [
    "# Deepchem 을 이용한 특성 선택\n",
    "\n",
    "#  deepchem이 제공하는 Dataset을 로드하면서 바로 특성을 선택할 수 있다\n",
    "#  featurizer의 옵션은 다음과 같다\n",
    "#  'ECFP', 'GraphConv', 'Weave', 'smiles2img' 등을 선택할 수 있다\n",
    "\n",
    "import deepchem as dc\n",
    "\n",
    "tasks, datasets, transformers = dc.molnet.load_delaney(featurizer='ECFP')\n",
    "train_dataset, valid_dataset, test_dataset = datasets"
   ]
  },
  {
   "cell_type": "code",
   "execution_count": 27,
   "metadata": {},
   "outputs": [
    {
     "data": {
      "text/plain": [
       "array([[0., 0., 0., ..., 0., 0., 0.],\n",
       "       [0., 0., 0., ..., 0., 0., 0.],\n",
       "       [0., 0., 0., ..., 0., 0., 0.],\n",
       "       ...,\n",
       "       [0., 0., 0., ..., 0., 0., 0.],\n",
       "       [0., 0., 1., ..., 0., 0., 0.],\n",
       "       [0., 0., 1., ..., 0., 0., 0.]])"
      ]
     },
     "execution_count": 27,
     "metadata": {},
     "output_type": "execute_result"
    }
   ],
   "source": [
    "train_dataset.X"
   ]
  },
  {
   "cell_type": "code",
   "execution_count": 28,
   "metadata": {},
   "outputs": [
    {
     "data": {
      "text/plain": [
       "(902, 1024)"
      ]
     },
     "execution_count": 28,
     "metadata": {},
     "output_type": "execute_result"
    }
   ],
   "source": [
    "train_dataset.X.shape"
   ]
  },
  {
   "cell_type": "markdown",
   "metadata": {},
   "source": [
    "## 타겟 표현형\n",
    "- 단백질 등 타겟을 컴퓨터 입력 데이터로 표현하는 방법"
   ]
  },
  {
   "cell_type": "code",
   "execution_count": null,
   "metadata": {},
   "outputs": [],
   "source": [
    "!pip install pandas-flavor\n",
    "!pip install git+https://github.com/bp-kelley/descriptastorus\n",
    "!pip install DeepPurpose\n",
    "!pip install Bio"
   ]
  },
  {
   "cell_type": "code",
   "execution_count": 11,
   "metadata": {
    "ExecuteTime": {
     "end_time": "2023-07-02T14:55:30.396318Z",
     "start_time": "2023-07-02T14:55:30.391418Z"
    }
   },
   "outputs": [],
   "source": [
    "import torch\n",
    "import DeepPurpose.DTI as models\n",
    "from DeepPurpose.utils import *\n",
    "from DeepPurpose.dataset import *\n",
    "import numpy as np\n",
    "from Bio.SeqUtils.ProtParam import ProteinAnalysis"
   ]
  },
  {
   "cell_type": "markdown",
   "metadata": {},
   "source": [
    "### (데이터 로드)"
   ]
  },
  {
   "cell_type": "code",
   "execution_count": 18,
   "metadata": {
    "ExecuteTime": {
     "end_time": "2023-07-02T14:58:41.984345Z",
     "start_time": "2023-07-02T14:58:37.626347Z"
    }
   },
   "outputs": [
    {
     "name": "stdout",
     "output_type": "stream",
     "text": [
      "Beginning Processing...\n",
      "100% [........................................................] 179878 / 179878Beginning to extract zip file...\n",
      "Default set to logspace (nM -> p) for easier regression\n",
      "Done!\n"
     ]
    }
   ],
   "source": [
    "X_drug, X_target, y = load_process_DAVIS('./data/', binary=False)"
   ]
  },
  {
   "cell_type": "markdown",
   "metadata": {},
   "source": [
    "### 단백질(아미노산) 표현\n",
    "- 단백질은 여러 아미노산의 다양한 조합으로 구성된다\n",
    "- 아미노산은 20개의 표준 아미노산과 이외의 희귀 아미노산으로 분류된다\n",
    "- 머신러닝 모델의 입력으로 사용할 단백질 데이터는 아미노산을 알파셋으로 표현한 배열로 사용한다"
   ]
  },
  {
   "cell_type": "code",
   "execution_count": 19,
   "metadata": {
    "ExecuteTime": {
     "end_time": "2023-07-02T14:58:43.326016Z",
     "start_time": "2023-07-02T14:58:43.318960Z"
    }
   },
   "outputs": [
    {
     "data": {
      "text/plain": [
       "'MKKFFDSRREQGGSGLGSGSSGGGGSTSGLGSGYIGRVFGIGRQQVTVDEVLAEGGFAIVFLVRTSNGMKCALKRMFVNNEHDLQVCKREIQIMRDLSGHKNIVGYIDSSINNVSSGDVWEVLILMDFCRGGQVVNLMNQRLQTGFTENEVLQIFCDTCEAVARLHQCKTPIIHRDLKVENILLHDRGHYVLCDFGSATNKFQNPQTEGVNAVEDEIKKYTTLSYRAPEMVNLYSGKIITTKADIWALGCLLYKLCYFTLPFGESQVAICDGNFTIPDNSRYSQDMHCLIRYMLEPDPDKRPDIYQVSYFSFKLLKKECPIPNVQNSPIPAKLPEPVKASEAAAKKTQPKARLTDPIPTTETSIAPRQRPKAGQTQPNPGILPIQPALTPRKRATVQPPPQAAGSSNQPGLLASVPQPKPQAPPSQPLPQTQAKQPQAPPTPQQTPSTQAQGLPAQAQATPQHQQQLFLKQQQQQQQPPPAQQQPAGTFYQQQQAQTQQFQAVHPATQKPAIAQFPVVSQGGSQQQLMQNFYQQQQQQQQQQQQQQLATALHQQQLMTQQAALQQKPTMAAGQQPQPQPAAAPQPAPAQEPAIQAPVRQQPKVQTTPPPAVQGQKVGSLTPPSSPKTQRAGHRRILSDVTHSAVFGVPASKSTQLLQAAAAEASLNKSKSATTTPSGSPRTSQQNVYNPSEGSTWNPFDDDNFSKLTAEELLNKDFAKLGEGKHPEKLGGSAESLIPGFQSTQGDAFATTSFSAGTAEKRKGGQTVDSGLPLLSVSDPFIPLQVPDAPEKLIEGLKSPDTSLLLPDLLPMTDPFGSTSDAVIEKADVAVESLIPGLEPPVPQRLPSQTESVTSNRTDSLTGEDSLLDCSLLSNPTTDLLEEFAPTAISAPVHKAAEDSNLISGFDVPEGSDKVAEDEFDPIPVLITKNPQGGHSRNSSGSSESSLPNLARSLLLVDQLIDL'"
      ]
     },
     "execution_count": 19,
     "metadata": {},
     "output_type": "execute_result"
    }
   ],
   "source": [
    "X_target[0]"
   ]
  },
  {
   "cell_type": "markdown",
   "metadata": {},
   "source": [
    "### 단백질의 분자량\n",
    "- rdkit.Chem.rdchem.Mol 객체와 유사하게 Bio.SeqUtils.ProtParam.ProteinAnalysis객체는 단백질 데이터의 다양한 연산 도구를 제공한다"
   ]
  },
  {
   "cell_type": "code",
   "execution_count": 23,
   "metadata": {
    "ExecuteTime": {
     "end_time": "2023-07-02T15:03:09.132072Z",
     "start_time": "2023-07-02T15:03:09.125011Z"
    }
   },
   "outputs": [
    {
     "name": "stdout",
     "output_type": "stream",
     "text": [
      "<Bio.SeqUtils.ProtParam.ProteinAnalysis object at 0x7f4e4c638190>\n",
      "분자량 :  103883.71650000068\n"
     ]
    }
   ],
   "source": [
    "protein = ProteinAnalysis(X_target[0])\n",
    "print(protein)\n",
    "print('분자량 : ', protein.molecular_weight())"
   ]
  },
  {
   "cell_type": "markdown",
   "metadata": {},
   "source": [
    "### 단백질의 방향족(aromaticity) 아미노산 비율, 불안정성(instability index), 등전점(isoelectric point)"
   ]
  },
  {
   "cell_type": "code",
   "execution_count": 21,
   "metadata": {
    "ExecuteTime": {
     "end_time": "2023-07-02T15:01:27.215305Z",
     "start_time": "2023-07-02T15:01:27.206406Z"
    }
   },
   "outputs": [
    {
     "name": "stdout",
     "output_type": "stream",
     "text": [
      "방향족 :  0.05306971904266389\n",
      "불안정성 :  56.52759625390253\n",
      "등전점 :  6.158641242980956\n"
     ]
    }
   ],
   "source": [
    "print('방향족 : ', protein.aromaticity())\n",
    "print('불안정성 : ', protein.instability_index())\n",
    "print('등전점 : ', protein.isoelectric_point())"
   ]
  },
  {
   "cell_type": "code",
   "execution_count": null,
   "metadata": {},
   "outputs": [],
   "source": []
  }
 ],
 "metadata": {
  "kernelspec": {
   "display_name": "Python 3 (ipykernel)",
   "language": "python",
   "name": "python3"
  },
  "language_info": {
   "codemirror_mode": {
    "name": "ipython",
    "version": 3
   },
   "file_extension": ".py",
   "mimetype": "text/x-python",
   "name": "python",
   "nbconvert_exporter": "python",
   "pygments_lexer": "ipython3",
   "version": "3.9.7"
  },
  "toc": {
   "base_numbering": 1,
   "nav_menu": {},
   "number_sections": false,
   "sideBar": true,
   "skip_h1_title": false,
   "title_cell": "Table of Contents",
   "title_sidebar": "Contents",
   "toc_cell": false,
   "toc_position": {
    "height": "calc(100% - 180px)",
    "left": "10px",
    "top": "150px",
    "width": "383.594px"
   },
   "toc_section_display": true,
   "toc_window_display": false
  },
  "varInspector": {
   "cols": {
    "lenName": 16,
    "lenType": 16,
    "lenVar": 40
   },
   "kernels_config": {
    "python": {
     "delete_cmd_postfix": "",
     "delete_cmd_prefix": "del ",
     "library": "var_list.py",
     "varRefreshCmd": "print(var_dic_list())"
    },
    "r": {
     "delete_cmd_postfix": ") ",
     "delete_cmd_prefix": "rm(",
     "library": "var_list.r",
     "varRefreshCmd": "cat(var_dic_list()) "
    }
   },
   "types_to_exclude": [
    "module",
    "function",
    "builtin_function_or_method",
    "instance",
    "_Feature"
   ],
   "window_display": false
  }
 },
 "nbformat": 4,
 "nbformat_minor": 2
}
