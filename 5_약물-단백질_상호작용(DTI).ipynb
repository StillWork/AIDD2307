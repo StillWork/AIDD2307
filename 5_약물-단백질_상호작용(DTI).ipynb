{
 "cells": [
  {
   "cell_type": "markdown",
   "metadata": {},
   "source": [
    "# 약물-단백질 상호작용"
   ]
  },
  {
   "cell_type": "markdown",
   "metadata": {},
   "source": [
    "## 단백질 특성 표현법\n",
    "- 단백질은 여러 아미노산의 다양한 조합으로 구성된다\n",
    "- 아미노산은 20개의 표준 아미노산과 이외의 희귀 아미노산으로 분류된다\n",
    "- 머신러닝 모델의 입력으로 사용할 단백질 데이터는 아미노산을 알파셋으로 표현한 배열로 사용한다"
   ]
  },
  {
   "cell_type": "code",
   "execution_count": null,
   "metadata": {},
   "outputs": [
    {
     "name": "stdout",
     "output_type": "stream",
     "text": [
      "Requirement already satisfied: pandas-flavor in c:\\users\\tonyw\\anaconda3\\lib\\site-packages (0.5.0)\n",
      "Requirement already satisfied: pandas>=0.23 in c:\\users\\tonyw\\anaconda3\\lib\\site-packages (from pandas-flavor) (1.4.4)\n",
      "Requirement already satisfied: xarray in c:\\users\\tonyw\\anaconda3\\lib\\site-packages (from pandas-flavor) (0.20.1)\n",
      "Requirement already satisfied: lazy-loader>=0.1 in c:\\users\\tonyw\\anaconda3\\lib\\site-packages (from pandas-flavor) (0.2)\n",
      "Requirement already satisfied: python-dateutil>=2.8.1 in c:\\users\\tonyw\\anaconda3\\lib\\site-packages (from pandas>=0.23->pandas-flavor) (2.8.2)\n",
      "Requirement already satisfied: pytz>=2020.1 in c:\\users\\tonyw\\anaconda3\\lib\\site-packages (from pandas>=0.23->pandas-flavor) (2022.1)\n",
      "Requirement already satisfied: numpy>=1.18.5 in c:\\users\\tonyw\\anaconda3\\lib\\site-packages (from pandas>=0.23->pandas-flavor) (1.21.5)\n",
      "Requirement already satisfied: six>=1.5 in c:\\users\\tonyw\\anaconda3\\lib\\site-packages (from python-dateutil>=2.8.1->pandas>=0.23->pandas-flavor) (1.16.0)\n"
     ]
    },
    {
     "name": "stderr",
     "output_type": "stream",
     "text": [
      "\n",
      "[notice] A new release of pip is available: 23.1 -> 23.1.1\n",
      "[notice] To update, run: python.exe -m pip install --upgrade pip\n"
     ]
    },
    {
     "name": "stdout",
     "output_type": "stream",
     "text": [
      "Collecting git+https://github.com/bp-kelley/descriptastorus\n",
      "  Cloning https://github.com/bp-kelley/descriptastorus to c:\\users\\tonyw\\appdata\\local\\temp\\pip-req-build-mngdqb61\n",
      "  Resolved https://github.com/bp-kelley/descriptastorus to commit 86eedc60546abe6f59cdbcb12025a61157ba178d\n",
      "  Preparing metadata (setup.py): started\n",
      "  Preparing metadata (setup.py): finished with status 'done'\n",
      "Requirement already satisfied: pandas_flavor in c:\\users\\tonyw\\anaconda3\\lib\\site-packages (from descriptastorus==2.5.0.20) (0.5.0)\n",
      "Requirement already satisfied: rdkit in c:\\users\\tonyw\\anaconda3\\lib\\site-packages (from descriptastorus==2.5.0.20) (2022.9.5)\n",
      "Requirement already satisfied: pandas>=0.23 in c:\\users\\tonyw\\anaconda3\\lib\\site-packages (from pandas_flavor->descriptastorus==2.5.0.20) (1.4.4)\n",
      "Requirement already satisfied: xarray in c:\\users\\tonyw\\anaconda3\\lib\\site-packages (from pandas_flavor->descriptastorus==2.5.0.20) (0.20.1)\n",
      "Requirement already satisfied: lazy-loader>=0.1 in c:\\users\\tonyw\\anaconda3\\lib\\site-packages (from pandas_flavor->descriptastorus==2.5.0.20) (0.2)\n",
      "Requirement already satisfied: numpy in c:\\users\\tonyw\\anaconda3\\lib\\site-packages (from rdkit->descriptastorus==2.5.0.20) (1.21.5)\n",
      "Requirement already satisfied: Pillow in c:\\users\\tonyw\\anaconda3\\lib\\site-packages (from rdkit->descriptastorus==2.5.0.20) (9.2.0)\n",
      "Requirement already satisfied: python-dateutil>=2.8.1 in c:\\users\\tonyw\\anaconda3\\lib\\site-packages (from pandas>=0.23->pandas_flavor->descriptastorus==2.5.0.20) (2.8.2)\n",
      "Requirement already satisfied: pytz>=2020.1 in c:\\users\\tonyw\\anaconda3\\lib\\site-packages (from pandas>=0.23->pandas_flavor->descriptastorus==2.5.0.20) (2022.1)\n",
      "Requirement already satisfied: six>=1.5 in c:\\users\\tonyw\\anaconda3\\lib\\site-packages (from python-dateutil>=2.8.1->pandas>=0.23->pandas_flavor->descriptastorus==2.5.0.20) (1.16.0)\n"
     ]
    },
    {
     "name": "stderr",
     "output_type": "stream",
     "text": [
      "  Running command git clone --filter=blob:none --quiet https://github.com/bp-kelley/descriptastorus 'C:\\Users\\tonyw\\AppData\\Local\\Temp\\pip-req-build-mngdqb61'\n",
      "\n",
      "[notice] A new release of pip is available: 23.1 -> 23.1.1\n",
      "[notice] To update, run: python.exe -m pip install --upgrade pip\n"
     ]
    },
    {
     "name": "stdout",
     "output_type": "stream",
     "text": [
      "Requirement already satisfied: DeepPurpose in c:\\users\\tonyw\\anaconda3\\lib\\site-packages (0.1.5)\n",
      "Requirement already satisfied: numpy in c:\\users\\tonyw\\anaconda3\\lib\\site-packages (from DeepPurpose) (1.21.5)\n",
      "Requirement already satisfied: pandas in c:\\users\\tonyw\\anaconda3\\lib\\site-packages (from DeepPurpose) (1.4.4)\n",
      "Requirement already satisfied: tqdm in c:\\users\\tonyw\\anaconda3\\lib\\site-packages (from DeepPurpose) (4.64.1)\n",
      "Requirement already satisfied: scikit-learn in c:\\users\\tonyw\\anaconda3\\lib\\site-packages (from DeepPurpose) (1.0.2)\n",
      "Requirement already satisfied: wget in c:\\users\\tonyw\\anaconda3\\lib\\site-packages (from DeepPurpose) (3.2)\n",
      "Requirement already satisfied: torch in c:\\users\\tonyw\\anaconda3\\lib\\site-packages (from DeepPurpose) (1.13.1)\n",
      "Requirement already satisfied: matplotlib in c:\\users\\tonyw\\anaconda3\\lib\\site-packages (from DeepPurpose) (3.5.2)\n",
      "Requirement already satisfied: requests in c:\\users\\tonyw\\anaconda3\\lib\\site-packages (from DeepPurpose) (2.28.1)\n",
      "Requirement already satisfied: pandas-flavor in c:\\users\\tonyw\\anaconda3\\lib\\site-packages (from DeepPurpose) (0.5.0)\n",
      "Requirement already satisfied: subword-nmt in c:\\users\\tonyw\\anaconda3\\lib\\site-packages (from DeepPurpose) (0.3.8)\n",
      "Requirement already satisfied: lifelines in c:\\users\\tonyw\\anaconda3\\lib\\site-packages (from DeepPurpose) (0.27.4)\n",
      "Requirement already satisfied: prettytable in c:\\users\\tonyw\\anaconda3\\lib\\site-packages (from DeepPurpose) (3.7.0)\n",
      "Requirement already satisfied: tensorboard in c:\\users\\tonyw\\anaconda3\\lib\\site-packages (from DeepPurpose) (2.10.1)\n",
      "Requirement already satisfied: ax-platform in c:\\users\\tonyw\\anaconda3\\lib\\site-packages (from DeepPurpose) (0.3.1)\n",
      "Requirement already satisfied: dgllife in c:\\users\\tonyw\\anaconda3\\lib\\site-packages (from DeepPurpose) (0.3.2)\n",
      "Requirement already satisfied: botorch==0.8.3 in c:\\users\\tonyw\\anaconda3\\lib\\site-packages (from ax-platform->DeepPurpose) (0.8.3)\n",
      "Requirement already satisfied: jinja2 in c:\\users\\tonyw\\anaconda3\\lib\\site-packages (from ax-platform->DeepPurpose) (2.11.3)\n",
      "Requirement already satisfied: scipy in c:\\users\\tonyw\\anaconda3\\lib\\site-packages (from ax-platform->DeepPurpose) (1.8.1)\n",
      "Requirement already satisfied: ipywidgets in c:\\users\\tonyw\\anaconda3\\lib\\site-packages (from ax-platform->DeepPurpose) (7.6.5)\n",
      "Requirement already satisfied: plotly>=5.12.0 in c:\\users\\tonyw\\anaconda3\\lib\\site-packages (from ax-platform->DeepPurpose) (5.14.1)\n",
      "Requirement already satisfied: typeguard==2.13.3 in c:\\users\\tonyw\\anaconda3\\lib\\site-packages (from ax-platform->DeepPurpose) (2.13.3)\n",
      "Requirement already satisfied: multipledispatch in c:\\users\\tonyw\\anaconda3\\lib\\site-packages (from botorch==0.8.3->ax-platform->DeepPurpose) (0.6.0)\n",
      "Requirement already satisfied: pyro-ppl>=1.8.4 in c:\\users\\tonyw\\anaconda3\\lib\\site-packages (from botorch==0.8.3->ax-platform->DeepPurpose) (1.8.4)\n",
      "Requirement already satisfied: gpytorch==1.9.1 in c:\\users\\tonyw\\anaconda3\\lib\\site-packages (from botorch==0.8.3->ax-platform->DeepPurpose) (1.9.1)\n",
      "Requirement already satisfied: linear-operator==0.3.0 in c:\\users\\tonyw\\anaconda3\\lib\\site-packages (from botorch==0.8.3->ax-platform->DeepPurpose) (0.3.0)\n",
      "Requirement already satisfied: typing_extensions in c:\\users\\tonyw\\anaconda3\\lib\\site-packages (from torch->DeepPurpose) (4.3.0)\n",
      "Requirement already satisfied: networkx>=2.1 in c:\\users\\tonyw\\anaconda3\\lib\\site-packages (from dgllife->DeepPurpose) (2.8.4)\n",
      "Requirement already satisfied: hyperopt in c:\\users\\tonyw\\anaconda3\\lib\\site-packages (from dgllife->DeepPurpose) (0.2.7)\n",
      "Requirement already satisfied: joblib in c:\\users\\tonyw\\anaconda3\\lib\\site-packages (from dgllife->DeepPurpose) (1.1.0)\n",
      "Requirement already satisfied: charset-normalizer<3,>=2 in c:\\users\\tonyw\\anaconda3\\lib\\site-packages (from requests->DeepPurpose) (2.0.4)\n",
      "Requirement already satisfied: idna<4,>=2.5 in c:\\users\\tonyw\\anaconda3\\lib\\site-packages (from requests->DeepPurpose) (3.3)\n",
      "Requirement already satisfied: urllib3<1.27,>=1.21.1 in c:\\users\\tonyw\\anaconda3\\lib\\site-packages (from requests->DeepPurpose) (1.26.11)\n",
      "Requirement already satisfied: certifi>=2017.4.17 in c:\\users\\tonyw\\anaconda3\\lib\\site-packages (from requests->DeepPurpose) (2022.9.14)\n",
      "Requirement already satisfied: threadpoolctl>=2.0.0 in c:\\users\\tonyw\\anaconda3\\lib\\site-packages (from scikit-learn->DeepPurpose) (2.2.0)\n",
      "Requirement already satisfied: autograd>=1.5 in c:\\users\\tonyw\\anaconda3\\lib\\site-packages (from lifelines->DeepPurpose) (1.5)\n",
      "Requirement already satisfied: autograd-gamma>=0.3 in c:\\users\\tonyw\\anaconda3\\lib\\site-packages (from lifelines->DeepPurpose) (0.5.0)\n",
      "Requirement already satisfied: formulaic>=0.2.2 in c:\\users\\tonyw\\anaconda3\\lib\\site-packages (from lifelines->DeepPurpose) (0.5.2)\n",
      "Requirement already satisfied: cycler>=0.10 in c:\\users\\tonyw\\anaconda3\\lib\\site-packages (from matplotlib->DeepPurpose) (0.11.0)\n",
      "Requirement already satisfied: fonttools>=4.22.0 in c:\\users\\tonyw\\anaconda3\\lib\\site-packages (from matplotlib->DeepPurpose) (4.25.0)\n",
      "Requirement already satisfied: kiwisolver>=1.0.1 in c:\\users\\tonyw\\anaconda3\\lib\\site-packages (from matplotlib->DeepPurpose) (1.4.2)\n",
      "Requirement already satisfied: packaging>=20.0 in c:\\users\\tonyw\\anaconda3\\lib\\site-packages (from matplotlib->DeepPurpose) (21.3)\n",
      "Requirement already satisfied: pillow>=6.2.0 in c:\\users\\tonyw\\anaconda3\\lib\\site-packages (from matplotlib->DeepPurpose) (9.2.0)\n",
      "Requirement already satisfied: pyparsing>=2.2.1 in c:\\users\\tonyw\\anaconda3\\lib\\site-packages (from matplotlib->DeepPurpose) (3.0.9)\n",
      "Requirement already satisfied: python-dateutil>=2.7 in c:\\users\\tonyw\\anaconda3\\lib\\site-packages (from matplotlib->DeepPurpose) (2.8.2)\n",
      "Requirement already satisfied: pytz>=2020.1 in c:\\users\\tonyw\\anaconda3\\lib\\site-packages (from pandas->DeepPurpose) (2022.1)\n",
      "Requirement already satisfied: xarray in c:\\users\\tonyw\\anaconda3\\lib\\site-packages (from pandas-flavor->DeepPurpose) (0.20.1)\n",
      "Requirement already satisfied: lazy-loader>=0.1 in c:\\users\\tonyw\\anaconda3\\lib\\site-packages (from pandas-flavor->DeepPurpose) (0.2)\n",
      "Requirement already satisfied: wcwidth in c:\\users\\tonyw\\anaconda3\\lib\\site-packages (from prettytable->DeepPurpose) (0.2.5)\n",
      "Requirement already satisfied: mock in c:\\users\\tonyw\\anaconda3\\lib\\site-packages (from subword-nmt->DeepPurpose) (4.0.3)\n",
      "Requirement already satisfied: absl-py>=0.4 in c:\\users\\tonyw\\anaconda3\\lib\\site-packages (from tensorboard->DeepPurpose) (1.4.0)\n",
      "Requirement already satisfied: grpcio>=1.24.3 in c:\\users\\tonyw\\anaconda3\\lib\\site-packages (from tensorboard->DeepPurpose) (1.51.3)\n",
      "Requirement already satisfied: google-auth<3,>=1.6.3 in c:\\users\\tonyw\\anaconda3\\lib\\site-packages (from tensorboard->DeepPurpose) (2.16.2)\n",
      "Requirement already satisfied: google-auth-oauthlib<0.5,>=0.4.1 in c:\\users\\tonyw\\anaconda3\\lib\\site-packages (from tensorboard->DeepPurpose) (0.4.6)\n",
      "Requirement already satisfied: markdown>=2.6.8 in c:\\users\\tonyw\\anaconda3\\lib\\site-packages (from tensorboard->DeepPurpose) (3.3.4)\n",
      "Requirement already satisfied: protobuf<3.20,>=3.9.2 in c:\\users\\tonyw\\anaconda3\\lib\\site-packages (from tensorboard->DeepPurpose) (3.19.6)\n",
      "Requirement already satisfied: setuptools>=41.0.0 in c:\\users\\tonyw\\anaconda3\\lib\\site-packages (from tensorboard->DeepPurpose) (63.4.1)\n",
      "Requirement already satisfied: tensorboard-data-server<0.7.0,>=0.6.0 in c:\\users\\tonyw\\anaconda3\\lib\\site-packages (from tensorboard->DeepPurpose) (0.6.1)\n",
      "Requirement already satisfied: tensorboard-plugin-wit>=1.6.0 in c:\\users\\tonyw\\anaconda3\\lib\\site-packages (from tensorboard->DeepPurpose) (1.8.1)\n",
      "Requirement already satisfied: werkzeug>=1.0.1 in c:\\users\\tonyw\\anaconda3\\lib\\site-packages (from tensorboard->DeepPurpose) (2.0.3)\n",
      "Requirement already satisfied: wheel>=0.26 in c:\\users\\tonyw\\anaconda3\\lib\\site-packages (from tensorboard->DeepPurpose) (0.37.1)\n",
      "Requirement already satisfied: colorama in c:\\users\\tonyw\\anaconda3\\lib\\site-packages (from tqdm->DeepPurpose) (0.4.5)\n",
      "Requirement already satisfied: future>=0.15.2 in c:\\users\\tonyw\\anaconda3\\lib\\site-packages (from autograd>=1.5->lifelines->DeepPurpose) (0.18.2)\n",
      "Requirement already satisfied: astor>=0.8 in c:\\users\\tonyw\\anaconda3\\lib\\site-packages (from formulaic>=0.2.2->lifelines->DeepPurpose) (0.8.1)\n",
      "Requirement already satisfied: interface-meta>=1.2.0 in c:\\users\\tonyw\\anaconda3\\lib\\site-packages (from formulaic>=0.2.2->lifelines->DeepPurpose) (1.3.0)\n",
      "Requirement already satisfied: wrapt>=1.0 in c:\\users\\tonyw\\anaconda3\\lib\\site-packages (from formulaic>=0.2.2->lifelines->DeepPurpose) (1.14.1)\n",
      "Requirement already satisfied: cachetools<6.0,>=2.0.0 in c:\\users\\tonyw\\anaconda3\\lib\\site-packages (from google-auth<3,>=1.6.3->tensorboard->DeepPurpose) (5.3.0)\n",
      "Requirement already satisfied: pyasn1-modules>=0.2.1 in c:\\users\\tonyw\\anaconda3\\lib\\site-packages (from google-auth<3,>=1.6.3->tensorboard->DeepPurpose) (0.2.8)\n",
      "Requirement already satisfied: six>=1.9.0 in c:\\users\\tonyw\\anaconda3\\lib\\site-packages (from google-auth<3,>=1.6.3->tensorboard->DeepPurpose) (1.16.0)\n",
      "Requirement already satisfied: rsa<5,>=3.1.4 in c:\\users\\tonyw\\anaconda3\\lib\\site-packages (from google-auth<3,>=1.6.3->tensorboard->DeepPurpose) (4.9)\n",
      "Requirement already satisfied: requests-oauthlib>=0.7.0 in c:\\users\\tonyw\\anaconda3\\lib\\site-packages (from google-auth-oauthlib<0.5,>=0.4.1->tensorboard->DeepPurpose) (1.3.1)\n",
      "Requirement already satisfied: tenacity>=6.2.0 in c:\\users\\tonyw\\anaconda3\\lib\\site-packages (from plotly>=5.12.0->ax-platform->DeepPurpose) (8.0.1)\n",
      "Requirement already satisfied: cloudpickle in c:\\users\\tonyw\\anaconda3\\lib\\site-packages (from hyperopt->dgllife->DeepPurpose) (2.0.0)\n",
      "Requirement already satisfied: py4j in c:\\users\\tonyw\\anaconda3\\lib\\site-packages (from hyperopt->dgllife->DeepPurpose) (0.10.9.7)\n",
      "Requirement already satisfied: ipykernel>=4.5.1 in c:\\users\\tonyw\\anaconda3\\lib\\site-packages (from ipywidgets->ax-platform->DeepPurpose) (6.15.2)\n",
      "Requirement already satisfied: ipython-genutils~=0.2.0 in c:\\users\\tonyw\\anaconda3\\lib\\site-packages (from ipywidgets->ax-platform->DeepPurpose) (0.2.0)\n",
      "Requirement already satisfied: traitlets>=4.3.1 in c:\\users\\tonyw\\anaconda3\\lib\\site-packages (from ipywidgets->ax-platform->DeepPurpose) (5.1.1)\n",
      "Requirement already satisfied: nbformat>=4.2.0 in c:\\users\\tonyw\\anaconda3\\lib\\site-packages (from ipywidgets->ax-platform->DeepPurpose) (5.5.0)\n",
      "Requirement already satisfied: widgetsnbextension~=3.5.0 in c:\\users\\tonyw\\anaconda3\\lib\\site-packages (from ipywidgets->ax-platform->DeepPurpose) (3.5.2)\n",
      "Requirement already satisfied: ipython>=4.0.0 in c:\\users\\tonyw\\anaconda3\\lib\\site-packages (from ipywidgets->ax-platform->DeepPurpose) (7.31.1)\n",
      "Requirement already satisfied: jupyterlab-widgets>=1.0.0 in c:\\users\\tonyw\\anaconda3\\lib\\site-packages (from ipywidgets->ax-platform->DeepPurpose) (1.0.0)\n",
      "Requirement already satisfied: MarkupSafe>=0.23 in c:\\users\\tonyw\\anaconda3\\lib\\site-packages (from jinja2->ax-platform->DeepPurpose) (2.0.1)\n",
      "Requirement already satisfied: debugpy>=1.0 in c:\\users\\tonyw\\anaconda3\\lib\\site-packages (from ipykernel>=4.5.1->ipywidgets->ax-platform->DeepPurpose) (1.5.1)\n",
      "Requirement already satisfied: jupyter-client>=6.1.12 in c:\\users\\tonyw\\anaconda3\\lib\\site-packages (from ipykernel>=4.5.1->ipywidgets->ax-platform->DeepPurpose) (7.3.4)\n",
      "Requirement already satisfied: matplotlib-inline>=0.1 in c:\\users\\tonyw\\anaconda3\\lib\\site-packages (from ipykernel>=4.5.1->ipywidgets->ax-platform->DeepPurpose) (0.1.6)\n",
      "Requirement already satisfied: nest-asyncio in c:\\users\\tonyw\\anaconda3\\lib\\site-packages (from ipykernel>=4.5.1->ipywidgets->ax-platform->DeepPurpose) (1.5.5)\n",
      "Requirement already satisfied: psutil in c:\\users\\tonyw\\anaconda3\\lib\\site-packages (from ipykernel>=4.5.1->ipywidgets->ax-platform->DeepPurpose) (5.9.0)\n",
      "Requirement already satisfied: pyzmq>=17 in c:\\users\\tonyw\\anaconda3\\lib\\site-packages (from ipykernel>=4.5.1->ipywidgets->ax-platform->DeepPurpose) (23.2.0)\n",
      "Requirement already satisfied: tornado>=6.1 in c:\\users\\tonyw\\anaconda3\\lib\\site-packages (from ipykernel>=4.5.1->ipywidgets->ax-platform->DeepPurpose) (6.1)\n",
      "Requirement already satisfied: jedi>=0.16 in c:\\users\\tonyw\\anaconda3\\lib\\site-packages (from ipython>=4.0.0->ipywidgets->ax-platform->DeepPurpose) (0.18.1)\n",
      "Requirement already satisfied: decorator in c:\\users\\tonyw\\anaconda3\\lib\\site-packages (from ipython>=4.0.0->ipywidgets->ax-platform->DeepPurpose) (5.1.1)\n",
      "Requirement already satisfied: pickleshare in c:\\users\\tonyw\\anaconda3\\lib\\site-packages (from ipython>=4.0.0->ipywidgets->ax-platform->DeepPurpose) (0.7.5)\n",
      "Requirement already satisfied: prompt-toolkit!=3.0.0,!=3.0.1,<3.1.0,>=2.0.0 in c:\\users\\tonyw\\anaconda3\\lib\\site-packages (from ipython>=4.0.0->ipywidgets->ax-platform->DeepPurpose) (3.0.20)\n",
      "Requirement already satisfied: pygments in c:\\users\\tonyw\\anaconda3\\lib\\site-packages (from ipython>=4.0.0->ipywidgets->ax-platform->DeepPurpose) (2.11.2)\n",
      "Requirement already satisfied: backcall in c:\\users\\tonyw\\anaconda3\\lib\\site-packages (from ipython>=4.0.0->ipywidgets->ax-platform->DeepPurpose) (0.2.0)\n",
      "Requirement already satisfied: fastjsonschema in c:\\users\\tonyw\\anaconda3\\lib\\site-packages (from nbformat>=4.2.0->ipywidgets->ax-platform->DeepPurpose) (2.16.2)\n",
      "Requirement already satisfied: jsonschema>=2.6 in c:\\users\\tonyw\\anaconda3\\lib\\site-packages (from nbformat>=4.2.0->ipywidgets->ax-platform->DeepPurpose) (4.16.0)\n",
      "Requirement already satisfied: jupyter_core in c:\\users\\tonyw\\anaconda3\\lib\\site-packages (from nbformat>=4.2.0->ipywidgets->ax-platform->DeepPurpose) (4.11.1)\n",
      "Requirement already satisfied: pyasn1<0.5.0,>=0.4.6 in c:\\users\\tonyw\\anaconda3\\lib\\site-packages (from pyasn1-modules>=0.2.1->google-auth<3,>=1.6.3->tensorboard->DeepPurpose) (0.4.8)\n",
      "Requirement already satisfied: opt-einsum>=2.3.2 in c:\\users\\tonyw\\anaconda3\\lib\\site-packages (from pyro-ppl>=1.8.4->botorch==0.8.3->ax-platform->DeepPurpose) (3.3.0)\n",
      "Requirement already satisfied: pyro-api>=0.1.1 in c:\\users\\tonyw\\anaconda3\\lib\\site-packages (from pyro-ppl>=1.8.4->botorch==0.8.3->ax-platform->DeepPurpose) (0.1.2)\n",
      "Requirement already satisfied: oauthlib>=3.0.0 in c:\\users\\tonyw\\anaconda3\\lib\\site-packages (from requests-oauthlib>=0.7.0->google-auth-oauthlib<0.5,>=0.4.1->tensorboard->DeepPurpose) (3.2.2)\n",
      "Requirement already satisfied: notebook>=4.4.1 in c:\\users\\tonyw\\anaconda3\\lib\\site-packages (from widgetsnbextension~=3.5.0->ipywidgets->ax-platform->DeepPurpose) (6.4.12)\n",
      "Requirement already satisfied: parso<0.9.0,>=0.8.0 in c:\\users\\tonyw\\anaconda3\\lib\\site-packages (from jedi>=0.16->ipython>=4.0.0->ipywidgets->ax-platform->DeepPurpose) (0.8.3)\n",
      "Requirement already satisfied: attrs>=17.4.0 in c:\\users\\tonyw\\anaconda3\\lib\\site-packages (from jsonschema>=2.6->nbformat>=4.2.0->ipywidgets->ax-platform->DeepPurpose) (21.4.0)\n",
      "Requirement already satisfied: pyrsistent!=0.17.0,!=0.17.1,!=0.17.2,>=0.14.0 in c:\\users\\tonyw\\anaconda3\\lib\\site-packages (from jsonschema>=2.6->nbformat>=4.2.0->ipywidgets->ax-platform->DeepPurpose) (0.18.0)\n",
      "Requirement already satisfied: entrypoints in c:\\users\\tonyw\\anaconda3\\lib\\site-packages (from jupyter-client>=6.1.12->ipykernel>=4.5.1->ipywidgets->ax-platform->DeepPurpose) (0.4)\n",
      "Requirement already satisfied: pywin32>=1.0 in c:\\users\\tonyw\\anaconda3\\lib\\site-packages (from jupyter_core->nbformat>=4.2.0->ipywidgets->ax-platform->DeepPurpose) (302)\n",
      "Requirement already satisfied: argon2-cffi in c:\\users\\tonyw\\anaconda3\\lib\\site-packages (from notebook>=4.4.1->widgetsnbextension~=3.5.0->ipywidgets->ax-platform->DeepPurpose) (21.3.0)\n",
      "Requirement already satisfied: nbconvert>=5 in c:\\users\\tonyw\\anaconda3\\lib\\site-packages (from notebook>=4.4.1->widgetsnbextension~=3.5.0->ipywidgets->ax-platform->DeepPurpose) (6.4.4)\n",
      "Requirement already satisfied: Send2Trash>=1.8.0 in c:\\users\\tonyw\\anaconda3\\lib\\site-packages (from notebook>=4.4.1->widgetsnbextension~=3.5.0->ipywidgets->ax-platform->DeepPurpose) (1.8.0)\n",
      "Requirement already satisfied: terminado>=0.8.3 in c:\\users\\tonyw\\anaconda3\\lib\\site-packages (from notebook>=4.4.1->widgetsnbextension~=3.5.0->ipywidgets->ax-platform->DeepPurpose) (0.13.1)\n",
      "Requirement already satisfied: prometheus-client in c:\\users\\tonyw\\anaconda3\\lib\\site-packages (from notebook>=4.4.1->widgetsnbextension~=3.5.0->ipywidgets->ax-platform->DeepPurpose) (0.14.1)\n",
      "Requirement already satisfied: mistune<2,>=0.8.1 in c:\\users\\tonyw\\anaconda3\\lib\\site-packages (from nbconvert>=5->notebook>=4.4.1->widgetsnbextension~=3.5.0->ipywidgets->ax-platform->DeepPurpose) (0.8.4)\n",
      "Requirement already satisfied: jupyterlab-pygments in c:\\users\\tonyw\\anaconda3\\lib\\site-packages (from nbconvert>=5->notebook>=4.4.1->widgetsnbextension~=3.5.0->ipywidgets->ax-platform->DeepPurpose) (0.1.2)\n",
      "Requirement already satisfied: bleach in c:\\users\\tonyw\\anaconda3\\lib\\site-packages (from nbconvert>=5->notebook>=4.4.1->widgetsnbextension~=3.5.0->ipywidgets->ax-platform->DeepPurpose) (4.1.0)\n",
      "Requirement already satisfied: pandocfilters>=1.4.1 in c:\\users\\tonyw\\anaconda3\\lib\\site-packages (from nbconvert>=5->notebook>=4.4.1->widgetsnbextension~=3.5.0->ipywidgets->ax-platform->DeepPurpose) (1.5.0)\n",
      "Requirement already satisfied: testpath in c:\\users\\tonyw\\anaconda3\\lib\\site-packages (from nbconvert>=5->notebook>=4.4.1->widgetsnbextension~=3.5.0->ipywidgets->ax-platform->DeepPurpose) (0.6.0)\n",
      "Requirement already satisfied: defusedxml in c:\\users\\tonyw\\anaconda3\\lib\\site-packages (from nbconvert>=5->notebook>=4.4.1->widgetsnbextension~=3.5.0->ipywidgets->ax-platform->DeepPurpose) (0.7.1)\n",
      "Requirement already satisfied: beautifulsoup4 in c:\\users\\tonyw\\anaconda3\\lib\\site-packages (from nbconvert>=5->notebook>=4.4.1->widgetsnbextension~=3.5.0->ipywidgets->ax-platform->DeepPurpose) (4.11.1)\n",
      "Requirement already satisfied: nbclient<0.6.0,>=0.5.0 in c:\\users\\tonyw\\anaconda3\\lib\\site-packages (from nbconvert>=5->notebook>=4.4.1->widgetsnbextension~=3.5.0->ipywidgets->ax-platform->DeepPurpose) (0.5.13)\n",
      "Requirement already satisfied: pywinpty>=1.1.0 in c:\\users\\tonyw\\anaconda3\\lib\\site-packages (from terminado>=0.8.3->notebook>=4.4.1->widgetsnbextension~=3.5.0->ipywidgets->ax-platform->DeepPurpose) (2.0.2)\n",
      "Requirement already satisfied: argon2-cffi-bindings in c:\\users\\tonyw\\anaconda3\\lib\\site-packages (from argon2-cffi->notebook>=4.4.1->widgetsnbextension~=3.5.0->ipywidgets->ax-platform->DeepPurpose) (21.2.0)\n",
      "Requirement already satisfied: cffi>=1.0.1 in c:\\users\\tonyw\\anaconda3\\lib\\site-packages (from argon2-cffi-bindings->argon2-cffi->notebook>=4.4.1->widgetsnbextension~=3.5.0->ipywidgets->ax-platform->DeepPurpose) (1.15.1)\n",
      "Requirement already satisfied: soupsieve>1.2 in c:\\users\\tonyw\\anaconda3\\lib\\site-packages (from beautifulsoup4->nbconvert>=5->notebook>=4.4.1->widgetsnbextension~=3.5.0->ipywidgets->ax-platform->DeepPurpose) (2.3.1)\n",
      "Requirement already satisfied: webencodings in c:\\users\\tonyw\\anaconda3\\lib\\site-packages (from bleach->nbconvert>=5->notebook>=4.4.1->widgetsnbextension~=3.5.0->ipywidgets->ax-platform->DeepPurpose) (0.5.1)\n",
      "Requirement already satisfied: pycparser in c:\\users\\tonyw\\anaconda3\\lib\\site-packages (from cffi>=1.0.1->argon2-cffi-bindings->argon2-cffi->notebook>=4.4.1->widgetsnbextension~=3.5.0->ipywidgets->ax-platform->DeepPurpose) (2.21)\n"
     ]
    },
    {
     "name": "stderr",
     "output_type": "stream",
     "text": [
      "\n",
      "[notice] A new release of pip is available: 23.1 -> 23.1.1\n",
      "[notice] To update, run: python.exe -m pip install --upgrade pip\n"
     ]
    }
   ],
   "source": [
    "!pip install pandas-flavor\n",
    "!pip install git+https://github.com/bp-kelley/descriptastorus\n",
    "!pip install DeepPurpose"
   ]
  },
  {
   "cell_type": "code",
   "execution_count": 1,
   "metadata": {
    "ExecuteTime": {
     "end_time": "2023-07-06T07:24:11.750104Z",
     "start_time": "2023-07-06T07:23:54.363655Z"
    }
   },
   "outputs": [],
   "source": [
    "import torch\n",
    "import DeepPurpose.DTI as models\n",
    "from DeepPurpose.utils import *\n",
    "from DeepPurpose.dataset import *\n",
    "import DeepPurpose.oneliner as oneliner\n",
    "import numpy as np"
   ]
  },
  {
   "cell_type": "code",
   "execution_count": 2,
   "metadata": {
    "ExecuteTime": {
     "end_time": "2023-07-06T07:28:37.015854Z",
     "start_time": "2023-07-06T07:28:14.904222Z"
    }
   },
   "outputs": [
    {
     "name": "stdout",
     "output_type": "stream",
     "text": [
      "Beginning Processing...\n",
      "100% [....................................................] 39480319 / 39480319"
     ]
    },
    {
     "name": "stderr",
     "output_type": "stream",
     "text": [
      "/home/dilab162/anaconda3/lib/python3.9/site-packages/DeepPurpose/dataset.py:364: DtypeWarning: Columns (0,8) have mixed types. Specify dtype option on import or set low_memory=False.\n",
      "  df_data = pd.read_csv(saved_path_data)\n",
      "/home/dilab162/anaconda3/lib/python3.9/site-packages/DeepPurpose/dataset.py:369: SettingWithCopyWarning: \n",
      "A value is trying to be set on a copy of a slice from a DataFrame\n",
      "\n",
      "See the caveats in the documentation: https://pandas.pydata.org/pandas-docs/stable/user_guide/indexing.html#returning-a-view-versus-a-copy\n",
      "  val['binary_label'][(val.PUBCHEM_ACTIVITY_SCORE >= threshold) & (val.PUBCHEM_ACTIVITY_SCORE <=100)] = 1\n"
     ]
    },
    {
     "name": "stdout",
     "output_type": "stream",
     "text": [
      "Default binary threshold for the binding affinity scores is 15, recommended by the investigator\n",
      "Done!\n"
     ]
    }
   ],
   "source": [
    "\n",
    "target, target_name = load_SARS_CoV_Protease_3CL()\n",
    "X_drug, X_target, y = load_AID1706_SARS_CoV_3CL('./data', seed = 1234)\n",
    "X_repurpose, drug_names, drug_CID = load_antiviral_drugs('./data')"
   ]
  },
  {
   "cell_type": "code",
   "execution_count": 8,
   "metadata": {
    "ExecuteTime": {
     "end_time": "2023-07-06T07:34:11.995323Z",
     "start_time": "2023-07-06T07:34:11.559590Z"
    }
   },
   "outputs": [
    {
     "name": "stdout",
     "output_type": "stream",
     "text": [
      "Drug Target Interaction Prediction Mode...\n",
      "in total: 26640 drug-target pairs\n",
      "encoding drug...\n",
      "unique drugs: 13764\n",
      "encoding protein...\n",
      "unique target sequence: 1\n",
      "splitting dataset...\n",
      "Done.\n"
     ]
    }
   ],
   "source": [
    "# X_drug, X_target, y = load_process_DAVIS('./data/', binary=False)\n",
    "\n",
    "drug_encoding = 'CNN'\n",
    "target_encoding = 'CNN'\n",
    "train, val, test = data_process(X_drug, X_target, y, \n",
    "                                drug_encoding, target_encoding, \n",
    "                                split_method='random',frac=[0.8,0.1,0.1])"
   ]
  },
  {
   "cell_type": "code",
   "execution_count": 9,
   "metadata": {
    "ExecuteTime": {
     "end_time": "2023-07-06T07:34:16.696801Z",
     "start_time": "2023-07-06T07:34:16.690308Z"
    }
   },
   "outputs": [
    {
     "data": {
      "text/plain": [
       "'SGFKKLVSPSSAVEKCIVSVSYRGNNLNGLWLGDSIYCPRHVLGKFSGDQWGDVLNLANNHEFEVVTQNGVTLNVVSRRLKGAVLILQTAVANAETPKYKFVKANCGDSFTIACSYGGTVIGLYPVTMRSNGTIRASFLAGACGSVGFNIEKGVVNFFYMHHLELPNALHTGTDLMGEFYGGYVDEEVAQRVPPDNLVTNNIVAWLYAAIISVKESSFSQPKWLESTTVSIEDYNRWASDNGFTPFSTSTAITKLSAITGVDVCKLLRTIMVKSAQWGSDPILGQYNFEDELTPESVFNQVGGVRLQ'"
      ]
     },
     "execution_count": 9,
     "metadata": {},
     "output_type": "execute_result"
    }
   ],
   "source": [
    "X_target"
   ]
  },
  {
   "cell_type": "markdown",
   "metadata": {},
   "source": [
    "## 약물-단백질 상호작용(DTI) 이해"
   ]
  },
  {
   "cell_type": "markdown",
   "metadata": {},
   "source": [
    "- 약물과 단백질의 상호작용 정도를 점수화한 데이터를 통해 학습하는 머신러닝 모델\n",
    "- 약물과 단백질 데이터를 동시에 입력받아 상호작용 점수를 예측한다\n",
    "- 동작은 아래와 같음\n",
    "    1. 약물의 특성과 단백질(타겟)의 특성을 추출한다 (모델은 MLP, CNN, LSTM, Transformer 등 다양한 모델 사용가능)\n",
    "    2. 추출된 특성을 이어붙여(concatenate) 예측 레이어에 입력한다\n",
    "    3. 예측레이어를 통해 최종 상호작용 점수를 예측한다 (상호작용 여부를 분류하는 경우 0과 1로 이진분류, 상호작용 점수를 예측하는 경우 회귀)\n",
    "![nn](image/DTI.png)"
   ]
  },
  {
   "cell_type": "markdown",
   "metadata": {},
   "source": [
    "## 머신러닝을 이용한 DTI 예측 모델"
   ]
  },
  {
   "cell_type": "markdown",
   "metadata": {},
   "source": [
    "### 데이터 확인"
   ]
  },
  {
   "cell_type": "code",
   "execution_count": 10,
   "metadata": {
    "ExecuteTime": {
     "end_time": "2023-07-06T07:34:17.886454Z",
     "start_time": "2023-07-06T07:34:17.858076Z"
    }
   },
   "outputs": [
    {
     "data": {
      "text/html": [
       "<div>\n",
       "<style scoped>\n",
       "    .dataframe tbody tr th:only-of-type {\n",
       "        vertical-align: middle;\n",
       "    }\n",
       "\n",
       "    .dataframe tbody tr th {\n",
       "        vertical-align: top;\n",
       "    }\n",
       "\n",
       "    .dataframe thead th {\n",
       "        text-align: right;\n",
       "    }\n",
       "</style>\n",
       "<table border=\"1\" class=\"dataframe\">\n",
       "  <thead>\n",
       "    <tr style=\"text-align: right;\">\n",
       "      <th></th>\n",
       "      <th>SMILES</th>\n",
       "      <th>Target Sequence</th>\n",
       "      <th>Label</th>\n",
       "      <th>drug_encoding</th>\n",
       "      <th>target_encoding</th>\n",
       "    </tr>\n",
       "  </thead>\n",
       "  <tbody>\n",
       "    <tr>\n",
       "      <th>0</th>\n",
       "      <td>CCOC1=CC=C(C=C1)C(=O)NC2=CC=CC=C2N3CCOCC3</td>\n",
       "      <td>SGFKKLVSPSSAVEKCIVSVSYRGNNLNGLWLGDSIYCPRHVLGKF...</td>\n",
       "      <td>0</td>\n",
       "      <td>[C, C, O, C, 1, =, C, C, =, C, (, C, =, C, 1, ...</td>\n",
       "      <td>[S, G, F, K, K, L, V, S, P, S, S, A, V, E, K, ...</td>\n",
       "    </tr>\n",
       "    <tr>\n",
       "      <th>1</th>\n",
       "      <td>CC1=CC=C(C=C1)C(=O)NC(=C(Cl)Cl)C#N</td>\n",
       "      <td>SGFKKLVSPSSAVEKCIVSVSYRGNNLNGLWLGDSIYCPRHVLGKF...</td>\n",
       "      <td>1</td>\n",
       "      <td>[C, C, 1, =, C, C, =, C, (, C, =, C, 1, ), C, ...</td>\n",
       "      <td>[S, G, F, K, K, L, V, S, P, S, S, A, V, E, K, ...</td>\n",
       "    </tr>\n",
       "    <tr>\n",
       "      <th>2</th>\n",
       "      <td>CC1=CC(=O)OC2=C1C=CC(=C2)NC(=O)C3=CC=CC=C3OC(F)F</td>\n",
       "      <td>SGFKKLVSPSSAVEKCIVSVSYRGNNLNGLWLGDSIYCPRHVLGKF...</td>\n",
       "      <td>1</td>\n",
       "      <td>[C, C, 1, =, C, C, (, =, O, ), O, C, 2, =, C, ...</td>\n",
       "      <td>[S, G, F, K, K, L, V, S, P, S, S, A, V, E, K, ...</td>\n",
       "    </tr>\n",
       "    <tr>\n",
       "      <th>3</th>\n",
       "      <td>CCN(CC)C(=O)CN1C=C(C2=CC=CC=C21)/C=C/3\\C(=O)NC...</td>\n",
       "      <td>SGFKKLVSPSSAVEKCIVSVSYRGNNLNGLWLGDSIYCPRHVLGKF...</td>\n",
       "      <td>1</td>\n",
       "      <td>[C, C, N, (, C, C, ), C, (, =, O, ), C, N, 1, ...</td>\n",
       "      <td>[S, G, F, K, K, L, V, S, P, S, S, A, V, E, K, ...</td>\n",
       "    </tr>\n",
       "    <tr>\n",
       "      <th>4</th>\n",
       "      <td>C1=CC=C(C(=C1)/C=C/C(=O)C2=C(C=CC(=C2)Br)OC(=O...</td>\n",
       "      <td>SGFKKLVSPSSAVEKCIVSVSYRGNNLNGLWLGDSIYCPRHVLGKF...</td>\n",
       "      <td>1</td>\n",
       "      <td>[C, 1, =, C, C, =, C, (, C, (, =, C, 1, ), ?, ...</td>\n",
       "      <td>[S, G, F, K, K, L, V, S, P, S, S, A, V, E, K, ...</td>\n",
       "    </tr>\n",
       "    <tr>\n",
       "      <th>...</th>\n",
       "      <td>...</td>\n",
       "      <td>...</td>\n",
       "      <td>...</td>\n",
       "      <td>...</td>\n",
       "      <td>...</td>\n",
       "    </tr>\n",
       "    <tr>\n",
       "      <th>21307</th>\n",
       "      <td>C1CC(=O)N(C1=O)C2=C(C=CC(=C2)Cl)OC(=O)C3=CC=CO3</td>\n",
       "      <td>SGFKKLVSPSSAVEKCIVSVSYRGNNLNGLWLGDSIYCPRHVLGKF...</td>\n",
       "      <td>1</td>\n",
       "      <td>[C, 1, C, C, (, =, O, ), N, (, C, 1, =, O, ), ...</td>\n",
       "      <td>[S, G, F, K, K, L, V, S, P, S, S, A, V, E, K, ...</td>\n",
       "    </tr>\n",
       "    <tr>\n",
       "      <th>21308</th>\n",
       "      <td>CC(=O)NC1C2=C(C=CC(=C2)F)N(C1=O)CCN3CCOCC3.Cl</td>\n",
       "      <td>SGFKKLVSPSSAVEKCIVSVSYRGNNLNGLWLGDSIYCPRHVLGKF...</td>\n",
       "      <td>1</td>\n",
       "      <td>[C, C, (, =, O, ), N, C, 1, C, 2, =, C, (, C, ...</td>\n",
       "      <td>[S, G, F, K, K, L, V, S, P, S, S, A, V, E, K, ...</td>\n",
       "    </tr>\n",
       "    <tr>\n",
       "      <th>21309</th>\n",
       "      <td>COC1=CC=C(C=C1)C(=O)OC2=CN=CC=C2</td>\n",
       "      <td>SGFKKLVSPSSAVEKCIVSVSYRGNNLNGLWLGDSIYCPRHVLGKF...</td>\n",
       "      <td>1</td>\n",
       "      <td>[C, O, C, 1, =, C, C, =, C, (, C, =, C, 1, ), ...</td>\n",
       "      <td>[S, G, F, K, K, L, V, S, P, S, S, A, V, E, K, ...</td>\n",
       "    </tr>\n",
       "    <tr>\n",
       "      <th>21310</th>\n",
       "      <td>C1CCC(CC1)C2=NC3=CC=CC=C3C(=N2)SCC(=O)NCC4=CC5...</td>\n",
       "      <td>SGFKKLVSPSSAVEKCIVSVSYRGNNLNGLWLGDSIYCPRHVLGKF...</td>\n",
       "      <td>0</td>\n",
       "      <td>[C, 1, C, C, C, (, C, C, 1, ), C, 2, =, N, C, ...</td>\n",
       "      <td>[S, G, F, K, K, L, V, S, P, S, S, A, V, E, K, ...</td>\n",
       "    </tr>\n",
       "    <tr>\n",
       "      <th>21311</th>\n",
       "      <td>C1=CC=C(C=C1)N2C=C(C(=N2)C3=CC=C(C=C3)F)NC(=O)CCl</td>\n",
       "      <td>SGFKKLVSPSSAVEKCIVSVSYRGNNLNGLWLGDSIYCPRHVLGKF...</td>\n",
       "      <td>1</td>\n",
       "      <td>[C, 1, =, C, C, =, C, (, C, =, C, 1, ), N, 2, ...</td>\n",
       "      <td>[S, G, F, K, K, L, V, S, P, S, S, A, V, E, K, ...</td>\n",
       "    </tr>\n",
       "  </tbody>\n",
       "</table>\n",
       "<p>21312 rows × 5 columns</p>\n",
       "</div>"
      ],
      "text/plain": [
       "                                                  SMILES  \\\n",
       "0              CCOC1=CC=C(C=C1)C(=O)NC2=CC=CC=C2N3CCOCC3   \n",
       "1                     CC1=CC=C(C=C1)C(=O)NC(=C(Cl)Cl)C#N   \n",
       "2       CC1=CC(=O)OC2=C1C=CC(=C2)NC(=O)C3=CC=CC=C3OC(F)F   \n",
       "3      CCN(CC)C(=O)CN1C=C(C2=CC=CC=C21)/C=C/3\\C(=O)NC...   \n",
       "4      C1=CC=C(C(=C1)/C=C/C(=O)C2=C(C=CC(=C2)Br)OC(=O...   \n",
       "...                                                  ...   \n",
       "21307    C1CC(=O)N(C1=O)C2=C(C=CC(=C2)Cl)OC(=O)C3=CC=CO3   \n",
       "21308      CC(=O)NC1C2=C(C=CC(=C2)F)N(C1=O)CCN3CCOCC3.Cl   \n",
       "21309                   COC1=CC=C(C=C1)C(=O)OC2=CN=CC=C2   \n",
       "21310  C1CCC(CC1)C2=NC3=CC=CC=C3C(=N2)SCC(=O)NCC4=CC5...   \n",
       "21311  C1=CC=C(C=C1)N2C=C(C(=N2)C3=CC=C(C=C3)F)NC(=O)CCl   \n",
       "\n",
       "                                         Target Sequence  Label  \\\n",
       "0      SGFKKLVSPSSAVEKCIVSVSYRGNNLNGLWLGDSIYCPRHVLGKF...      0   \n",
       "1      SGFKKLVSPSSAVEKCIVSVSYRGNNLNGLWLGDSIYCPRHVLGKF...      1   \n",
       "2      SGFKKLVSPSSAVEKCIVSVSYRGNNLNGLWLGDSIYCPRHVLGKF...      1   \n",
       "3      SGFKKLVSPSSAVEKCIVSVSYRGNNLNGLWLGDSIYCPRHVLGKF...      1   \n",
       "4      SGFKKLVSPSSAVEKCIVSVSYRGNNLNGLWLGDSIYCPRHVLGKF...      1   \n",
       "...                                                  ...    ...   \n",
       "21307  SGFKKLVSPSSAVEKCIVSVSYRGNNLNGLWLGDSIYCPRHVLGKF...      1   \n",
       "21308  SGFKKLVSPSSAVEKCIVSVSYRGNNLNGLWLGDSIYCPRHVLGKF...      1   \n",
       "21309  SGFKKLVSPSSAVEKCIVSVSYRGNNLNGLWLGDSIYCPRHVLGKF...      1   \n",
       "21310  SGFKKLVSPSSAVEKCIVSVSYRGNNLNGLWLGDSIYCPRHVLGKF...      0   \n",
       "21311  SGFKKLVSPSSAVEKCIVSVSYRGNNLNGLWLGDSIYCPRHVLGKF...      1   \n",
       "\n",
       "                                           drug_encoding  \\\n",
       "0      [C, C, O, C, 1, =, C, C, =, C, (, C, =, C, 1, ...   \n",
       "1      [C, C, 1, =, C, C, =, C, (, C, =, C, 1, ), C, ...   \n",
       "2      [C, C, 1, =, C, C, (, =, O, ), O, C, 2, =, C, ...   \n",
       "3      [C, C, N, (, C, C, ), C, (, =, O, ), C, N, 1, ...   \n",
       "4      [C, 1, =, C, C, =, C, (, C, (, =, C, 1, ), ?, ...   \n",
       "...                                                  ...   \n",
       "21307  [C, 1, C, C, (, =, O, ), N, (, C, 1, =, O, ), ...   \n",
       "21308  [C, C, (, =, O, ), N, C, 1, C, 2, =, C, (, C, ...   \n",
       "21309  [C, O, C, 1, =, C, C, =, C, (, C, =, C, 1, ), ...   \n",
       "21310  [C, 1, C, C, C, (, C, C, 1, ), C, 2, =, N, C, ...   \n",
       "21311  [C, 1, =, C, C, =, C, (, C, =, C, 1, ), N, 2, ...   \n",
       "\n",
       "                                         target_encoding  \n",
       "0      [S, G, F, K, K, L, V, S, P, S, S, A, V, E, K, ...  \n",
       "1      [S, G, F, K, K, L, V, S, P, S, S, A, V, E, K, ...  \n",
       "2      [S, G, F, K, K, L, V, S, P, S, S, A, V, E, K, ...  \n",
       "3      [S, G, F, K, K, L, V, S, P, S, S, A, V, E, K, ...  \n",
       "4      [S, G, F, K, K, L, V, S, P, S, S, A, V, E, K, ...  \n",
       "...                                                  ...  \n",
       "21307  [S, G, F, K, K, L, V, S, P, S, S, A, V, E, K, ...  \n",
       "21308  [S, G, F, K, K, L, V, S, P, S, S, A, V, E, K, ...  \n",
       "21309  [S, G, F, K, K, L, V, S, P, S, S, A, V, E, K, ...  \n",
       "21310  [S, G, F, K, K, L, V, S, P, S, S, A, V, E, K, ...  \n",
       "21311  [S, G, F, K, K, L, V, S, P, S, S, A, V, E, K, ...  \n",
       "\n",
       "[21312 rows x 5 columns]"
      ]
     },
     "execution_count": 10,
     "metadata": {},
     "output_type": "execute_result"
    }
   ],
   "source": [
    "train"
   ]
  },
  {
   "cell_type": "code",
   "execution_count": 11,
   "metadata": {
    "ExecuteTime": {
     "end_time": "2023-07-06T07:34:18.050776Z",
     "start_time": "2023-07-06T07:34:18.044058Z"
    },
    "scrolled": true
   },
   "outputs": [
    {
     "name": "stdout",
     "output_type": "stream",
     "text": [
      "Drug 1: CCN(CC)C(=O)CN1C=C(C2=CC=CC=C21)/C=C/3\\C(=O)NC(=O)N(C3=O)C4=CC=CC=C4F\n",
      "Target 1: SGFKKLVSPSSAVEKCIVSVSYRGNNLNGLWLGDSIYCPRHVLGKFSGDQWGDVLNLANNHEFEVVTQNGVTLNVVSRRLKGAVLILQTAVANAETPKYKFVKANCGDSFTIACSYGGTVIGLYPVTMRSNGTIRASFLAGACGSVGFNIEKGVVNFFYMHHLELPNALHTGTDLMGEFYGGYVDEEVAQRVPPDNLVTNNIVAWLYAAIISVKESSFSQPKWLESTTVSIEDYNRWASDNGFTPFSTSTAITKLSAITGVDVCKLLRTIMVKSAQWGSDPILGQYNFEDELTPESVFNQVGGVRLQ\n",
      "Score 1: 1\n"
     ]
    }
   ],
   "source": [
    "num = 5\n",
    "print('Drug 1: ' + X_drug[num])\n",
    "print('Target 1: ' + X_target)\n",
    "print('Score 1: ' + str(y[num]))"
   ]
  },
  {
   "cell_type": "markdown",
   "metadata": {},
   "source": [
    "### 모델 정의 및 학습"
   ]
  },
  {
   "cell_type": "code",
   "execution_count": 13,
   "metadata": {
    "ExecuteTime": {
     "end_time": "2023-07-06T07:34:30.022429Z",
     "start_time": "2023-07-06T07:34:29.425609Z"
    }
   },
   "outputs": [],
   "source": [
    "config = generate_config(cuda_id = 0,\n",
    "                         drug_encoding = drug_encoding, \n",
    "                         target_encoding = target_encoding, \n",
    "                         cls_hidden_dims = [512,128], \n",
    "                         train_epoch = 10, \n",
    "                         LR = 0.001, \n",
    "                         batch_size = 256,\n",
    "                         cnn_drug_filters = [32,32],\n",
    "                         cnn_target_filters = [32,32],\n",
    "                         cnn_drug_kernels = [4,6],\n",
    "                         cnn_target_kernels = [4,8]\n",
    "                        )\n",
    "model = models.model_initialize(**config)"
   ]
  },
  {
   "cell_type": "code",
   "execution_count": 14,
   "metadata": {
    "ExecuteTime": {
     "end_time": "2023-07-06T07:45:19.139827Z",
     "start_time": "2023-07-06T07:34:36.147827Z"
    }
   },
   "outputs": [
    {
     "name": "stdout",
     "output_type": "stream",
     "text": [
      "Let's use 2 GPUs!\n",
      "--- Data Preparation ---\n",
      "--- Go for Training ---\n",
      "Training at Epoch 1 iteration 0 with loss 0.69125. Total time 0.005 hours\n",
      "Validation at Epoch 1, AUROC: 0.81861 , AUPRC: 0.82356 , F1: 0.75205 , Cross-entropy Loss: 8.20693\n",
      "Training at Epoch 2 iteration 0 with loss 0.51483. Total time 0.02166 hours\n",
      "Validation at Epoch 2, AUROC: 0.89755 , AUPRC: 0.89659 , F1: 0.83722 , Cross-entropy Loss: 5.60095\n",
      "Training at Epoch 3 iteration 0 with loss 0.31892. Total time 0.03833 hours\n",
      "Validation at Epoch 3, AUROC: 0.95561 , AUPRC: 0.94512 , F1: 0.85714 , Cross-entropy Loss: 5.41948\n",
      "Training at Epoch 4 iteration 0 with loss 0.31070. Total time 0.055 hours\n",
      "Validation at Epoch 4, AUROC: 0.97920 , AUPRC: 0.96593 , F1: 0.95661 , Cross-entropy Loss: 1.51693\n",
      "Training at Epoch 5 iteration 0 with loss 0.11116. Total time 0.07166 hours\n",
      "Validation at Epoch 5, AUROC: 0.98275 , AUPRC: 0.97124 , F1: 0.87089 , Cross-entropy Loss: 5.04350\n",
      "Training at Epoch 6 iteration 0 with loss 0.31849. Total time 0.08833 hours\n",
      "Validation at Epoch 6, AUROC: 0.98585 , AUPRC: 0.97309 , F1: 0.97473 , Cross-entropy Loss: 0.88164\n",
      "Training at Epoch 7 iteration 0 with loss 0.06145. Total time 0.105 hours\n",
      "Validation at Epoch 7, AUROC: 0.98740 , AUPRC: 0.97552 , F1: 0.95072 , Cross-entropy Loss: 1.76328\n",
      "Training at Epoch 8 iteration 0 with loss 0.08532. Total time 0.12194 hours\n",
      "Validation at Epoch 8, AUROC: 0.98897 , AUPRC: 0.97714 , F1: 0.96737 , Cross-entropy Loss: 1.10203\n",
      "Training at Epoch 9 iteration 0 with loss 0.05967. Total time 0.13861 hours\n",
      "Validation at Epoch 9, AUROC: 0.98838 , AUPRC: 0.97832 , F1: 0.97800 , Cross-entropy Loss: 0.76495\n",
      "Training at Epoch 10 iteration 0 with loss 0.03538. Total time 0.15527 hours\n",
      "Validation at Epoch 10, AUROC: 0.99032 , AUPRC: 0.97979 , F1: 0.97865 , Cross-entropy Loss: 0.73902\n",
      "--- Go for Testing ---\n",
      "Validation at Epoch 10 , AUROC: 0.99320 , AUPRC: 0.98763 , F1: 0.98392 , Cross-entropy Loss: 0.55750\n",
      "--- Training Finished ---\n"
     ]
    },
    {
     "data": {
      "image/png": "[encoded data removed]",
      "text/plain": [
       "<Figure size 640x480 with 1 Axes>"
      ]
     },
     "metadata": {},
     "output_type": "display_data"
    },
    {
     "data": {
      "image/png": "[encoded data removed]",
      "text/plain": [
       "<Figure size 640x480 with 1 Axes>"
      ]
     },
     "metadata": {},
     "output_type": "display_data"
    },
    {
     "data": {
      "image/png": "[encoded data removed]",
      "text/plain": [
       "<Figure size 640x480 with 1 Axes>"
      ]
     },
     "metadata": {},
     "output_type": "display_data"
    }
   ],
   "source": [
    "model.train(train, val, test)"
   ]
  },
  {
   "cell_type": "code",
   "execution_count": 17,
   "metadata": {
    "ExecuteTime": {
     "end_time": "2023-07-06T08:00:11.109621Z",
     "start_time": "2023-07-06T08:00:11.102740Z"
    }
   },
   "outputs": [],
   "source": [
    "def get_test_result():\n",
    "    with open('./result/test_markdowntable.txt', 'r') as f:\n",
    "        result = f.readlines()[-2].replace(' ', '').split('|')\n",
    "        AUROC, AUPRC, F1 = result[1], result[2], result[3]\n",
    "        return AUROC, AUPRC, F1"
   ]
  },
  {
   "cell_type": "code",
   "execution_count": 18,
   "metadata": {
    "ExecuteTime": {
     "end_time": "2023-07-06T08:00:11.789730Z",
     "start_time": "2023-07-06T08:00:11.782739Z"
    }
   },
   "outputs": [
    {
     "data": {
      "text/plain": [
       "('0.9932', '0.9876', '0.9839')"
      ]
     },
     "execution_count": 18,
     "metadata": {},
     "output_type": "execute_result"
    }
   ],
   "source": [
    "get_test_result()"
   ]
  }
 ],
 "metadata": {
  "kernelspec": {
   "display_name": "Python 3 (ipykernel)",
   "language": "python",
   "name": "python3"
  },
  "language_info": {
   "codemirror_mode": {
    "name": "ipython",
    "version": 3
   },
   "file_extension": ".py",
   "mimetype": "text/x-python",
   "name": "python",
   "nbconvert_exporter": "python",
   "pygments_lexer": "ipython3",
   "version": "3.9.7"
  },
  "toc": {
   "base_numbering": 1,
   "nav_menu": {},
   "number_sections": false,
   "sideBar": true,
   "skip_h1_title": false,
   "title_cell": "Table of Contents",
   "title_sidebar": "Contents",
   "toc_cell": false,
   "toc_position": {
    "height": "calc(100% - 180px)",
    "left": "10px",
    "top": "150px",
    "width": "358.594px"
   },
   "toc_section_display": true,
   "toc_window_display": true
  },
  "varInspector": {
   "cols": {
    "lenName": 16,
    "lenType": 16,
    "lenVar": 40
   },
   "kernels_config": {
    "python": {
     "delete_cmd_postfix": "",
     "delete_cmd_prefix": "del ",
     "library": "var_list.py",
     "varRefreshCmd": "print(var_dic_list())"
    },
    "r": {
     "delete_cmd_postfix": ") ",
     "delete_cmd_prefix": "rm(",
     "library": "var_list.r",
     "varRefreshCmd": "cat(var_dic_list()) "
    }
   },
   "types_to_exclude": [
    "module",
    "function",
    "builtin_function_or_method",
    "instance",
    "_Feature"
   ],
   "window_display": false
  }
 },
 "nbformat": 4,
 "nbformat_minor": 2
}
