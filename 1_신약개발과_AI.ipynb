{
 "cells": [
  {
   "cell_type": "markdown",
   "metadata": {},
   "source": [
    "# 신약개발과 AI\n",
    "\n",
    "## 1. 신약개발 프로세스의 개념과 범위"
   ]
  },
  {
   "cell_type": "markdown",
   "metadata": {},
   "source": [
    "### - 신약개발은 아래와 같은 프로세스로 진행되며 많은 시간과 금액이 필요"
   ]
  },
  {
   "cell_type": "markdown",
   "metadata": {},
   "source": [
    "1. 타겟 발굴: 병의 원인이 되는 단백질이나 유전자와 같은 바이오 분자를 찾는 과정\n",
    "\n",
    "2. 후보물질 탐색: 타겟에 대한 치료 효과를 가진 화합물을 찾는 과정\n",
    "\n",
    "3. 리드 최적화: 후보물질의 효능, 안정성, 투여 방법 등을 개선하는 과정\n",
    "\n",
    "4. 전임상실험: 동물 모델을 통해 치료 효과와 안정성을 평가하는 데 사용되는 실험\n",
    "\n",
    "5. 임상실험: 인체 대상 임상 시험을 통해 효능과 안전성을 평가하는 과정"
   ]
  },
  {
   "cell_type": "markdown",
   "metadata": {},
   "source": [
    "#### - 임상실험 이전의 과정을 머신러닝을 통해 단축"
   ]
  },
  {
   "cell_type": "markdown",
   "metadata": {},
   "source": [
    "<img src=\"http://www.jw-holdings.co.kr/admin/media/ckeditor/multiupload/6de6c360-2c11-4dec-9efd-4b8afbcb0460.jpg\" width=1000>\n"
   ]
  },
  {
   "cell_type": "markdown",
   "metadata": {},
   "source": [
    "## 2. AI 기술과 머신러닝의 동작 원리"
   ]
  },
  {
   "cell_type": "markdown",
   "metadata": {},
   "source": [
    "#### 머신러닝 이해\n",
    "\n",
    "- 회귀 예측, 분류 예측, 최적의 추천 등을 수행하는 소프트웨어로, 데이터를 보고 학습하며 다량의, 다양한 데이터로 학습시킬수록 점차 성능이 개선되는 방식으로 구현된다\n",
    "- 현재 인공지능을 구현하는 대표적인 방법이 머신러닝 기법이다\n",
    " - \"Machine Learning\"이란 컴퓨터가 데이터를 보고 스스로 학습한다는 의미이다\n",
    " - 예전에는 인공지능을 구현하기 위해서 \"생각하는\" 컴퓨터를 만들거나, 사람의 지식을 알고리즘이나 데이터로 구축하는 방법을 시도하였으나 성공하지 못했다 "
   ]
  },
  {
   "cell_type": "markdown",
   "metadata": {},
   "source": [
    "#### 데이터 (X)\n",
    "- 훈련 (train) 데이터: 모델을 학습시키는데 사용하는 데이터\n",
    "- 검증 (validation) 데이터: 학습시킨 모델의 동작을 검증하는데 사용하는 데이터\n",
    "- 학습에 사용하는 데이터가 많을수록 예측, 추천 성능이 향상된다\n",
    " - 데이터 타입: 정형 데이터(테이블 데이터), 비정형 데이터(이미지, 텍스트, 센서 데이터 등)\n",
    "- 머신러닝 모델의 성능을 높이기 위해서는 원시(raw) 데이터로부터 적절한 학습 및 검증 데이터를 만드는 **데이터 전처리**가 반드시 필요하다\n",
    "\n",
    "#### 머신러닝 모델\n",
    "- 입력 데이터(X)로부터 최적의 출력(y)을 얻는 소프트웨어\n",
    "- 최적의 출력이란 정답(label, target)을 잘 예측하는 것을 말한다\n",
    " - 최적의 출력을 얻기 위해서 모델을 구성하는 파라미터의 최적치를 찾는다(예: 선형 회귀에서 가중치 값)\n",
    "- 모델의 종류: 선형모델, 로지스틱 회귀, SVM, 결정트리, 랜덤 포레스트, kNN, 베이시언, 딥러닝 모델 (MLP, CNN, RNN, GCN, Transformer 등)\n",
    "\n",
    "#### 목적\n",
    "- 머신러닝의 목적은 다음 중 하나이다\n",
    " - 예측(predictive) 분석\n",
    "> 회귀 예측(regression): 수치를 예측  \n",
    "> 분류 예측(classification): 카테고리를 예측\n",
    " - 설명(descriptive)적 분석\n",
    " - 군집화(clustering)\n",
    " - 추천(recommendation)\n",
    " \n",
    "#### 성능평가 (performance measure)\n",
    "- 모델이 원하는 동작을 잘 수행하는지를 평가하는 값으로, 주요 평가 척도는 다음과 같다\n",
    " - 회귀모델에서는 R-squared를 사용\n",
    " - 분류 모델에서는 정확도(accuracy), 정밀도(precision), 리콜(recall), f-1 점수, ROC-AUC 등을 사용 \n",
    " \n",
    "#### 최적화기 (optimizer)\n",
    "- 학습을 통하여 모델 파라미터를 최적의 값으로 수렴시키는 알고리즘\n",
    "- 최적화 알고리즘으로는 경사하강법(GD: gradient descent)이 기본적으로 사용된다 \n",
    "\n",
    "#### 손실함수 (loss function)\n",
    "- 최적화기는 손실함수를 최소화 하는 방향으로 동작한다\n",
    "- 즉, 손실함수는 최적화기의 동작이 잘 이루어지고 있는지를 모니터링하는 값이다\n",
    "- 손실함수로, 회귀 모델에서는 MSE(mean square error)를, 분류에서는 크로스 엔트로피(cross entrophy)를 주로 사용한다\n"
   ]
  },
  {
   "cell_type": "markdown",
   "metadata": {},
   "source": [
    "### (선형회귀 실습)"
   ]
  },
  {
   "cell_type": "code",
   "execution_count": null,
   "metadata": {},
   "outputs": [],
   "source": [
    "# 실습에 필요한 모듈 import\n",
    "import numpy as np\n",
    "import pandas as pd\n",
    "import matplotlib.pyplot as plt"
   ]
  },
  {
   "cell_type": "markdown",
   "metadata": {},
   "source": [
    "- 실습을 위해 n개의 x 데이터를 생성\n",
    "- y = W * x + b 라는 규칙을 따름 (실습에서 W=2, b=3으로 임의 정의)\n",
    "- n개의 x에 대응하는 y를 노이즈를 섞어 생성(현실에서는 측정값에 다양한 노이즈가 포함되기 때문)"
   ]
  },
  {
   "cell_type": "code",
   "execution_count": null,
   "metadata": {
    "scrolled": true
   },
   "outputs": [
    {
     "data": {
      "text/plain": [
       "<matplotlib.collections.PathCollection at 0x7f30bd21ebe0>"
      ]
     },
     "metadata": {},
     "output_type": "display_data"
    },
    {
     "data": {
      "image/png": "[encoded data removed]",
      "text/plain": [
       "<Figure size 640x480 with 1 Axes>"
      ]
     },
     "metadata": {},
     "output_type": "display_data"
    }
   ],
   "source": [
    "n_samples = 200\n",
    "x = np.random.randn(n_samples) # 랜덤 x값 n_samples개 생성\n",
    "# 계수 및 절편\n",
    "w = 2\n",
    "b = 3\n",
    "# 노이즈 추가\n",
    "y = w*x + b + np.random.randn(n_samples) # 노이즈가 섞인 실제환경을 가정한 y 값 생성 (노이즈는 정규분포를 따르는 랜덤값)\n",
    "plt.scatter(x,y, s=10) # 생성된 데이터의 분포를 산점도로 확인"
   ]
  },
  {
   "cell_type": "markdown",
   "metadata": {},
   "source": [
    "- 생성한 데이터를 통해 x와 y의 관계를 머신러닝 기법 중 하나인 선형회귀를 통해 예측 (앞서 정의한 W=2, b=3값은 모른다고 가정)"
   ]
  },
  {
   "cell_type": "code",
   "execution_count": null,
   "metadata": {},
   "outputs": [
    {
     "name": "stdout",
     "output_type": "stream",
     "text": [
      "0.7433437846657677 0.6211456278049952\n",
      " 0 w1 = 0.743344, b = 0.621146 , error = 2.415964\n",
      " 1 w1 = 1.372557, b = 1.786168 , error = 1.354722\n",
      " 2 w1 = 1.656626, b = 2.377678 , error = 0.973005\n",
      " 3 w1 = 1.785811, b = 2.677495 , error = 0.852759\n",
      " 4 w1 = 1.845001, b = 2.829252 , error = 0.816543\n",
      " 5 w1 = 1.872327, b = 2.905976 , error = 0.807497\n",
      " 6 w1 = 1.885037, b = 2.944730 , error = 0.804808\n",
      " 7 w1 = 1.890993, b = 2.964288 , error = 0.804304\n",
      " 8 w1 = 1.893804, b = 2.974152 , error = 0.804509\n",
      " 9 w1 = 1.895140, b = 2.979125 , error = 0.804650\n"
     ]
    }
   ],
   "source": [
    "num_epoch = 10 # 경사하강법 반복 횟수\n",
    "lr = 0.5 # 학습률\n",
    "\n",
    "w = np.random.uniform() # w 초기값 임의 설정\n",
    "b = np.random.uniform() # b 초기값 임의 설정\n",
    "print(w,b)\n",
    "\n",
    "for epoch in range(num_epoch): # 경사하강법 구현\n",
    "    y_pred = w*x + b # 현재의 W와 b를 통해 계산한 예측값\n",
    "    error = np.abs(y_pred - y).mean() # 손실함수(loss function)를 통한 오차값 계산\n",
    "    print(f\"{epoch:2} w1 = {w:.6f}, b = {b:.6f} , error = {error:.6f}\")\n",
    "\n",
    "    w = w - lr*((y_pred - y)* x).mean() # w 업데이트\n",
    "    b = b - lr*((y_pred - y)).mean() # b 업데이트"
   ]
  },
  {
   "cell_type": "markdown",
   "metadata": {},
   "source": [
    "- 10번의 반복으로 W와 b의 값이 2와 3에 근접함을 확인\n",
    "- 데이터만을 학습하여 x와 y의 규칙을 정의하는 함수를 구하였고, 이 함수를 기반으로 추가적인 x에 대해 y를 예측할 수 있음\n",
    "#### 위의 선형회귀를 포함한 다양한 머신러닝 알고리즘들을 간단한 코드로 사용할 수 있도록 함수를 제공하는 다양한 라이브러리가 존재"
   ]
  },
  {
   "cell_type": "code",
   "execution_count": null,
   "metadata": {},
   "outputs": [
    {
     "name": "stdout",
     "output_type": "stream",
     "text": [
      "W =  [1.89637589]\n",
      "b =  2.9841706018303684\n"
     ]
    }
   ],
   "source": [
    "# sklearn을 이용한 선형회귀\n",
    "from sklearn.linear_model import LinearRegression\n",
    "leg = LinearRegression() # (1) 모델 생성\n",
    "leg.fit(x.reshape(-1,1), y) # (2) 학습\n",
    "\n",
    "print('W = ', leg.coef_) # w\n",
    "print('b = ', leg.intercept_) # b"
   ]
  },
  {
   "cell_type": "markdown",
   "metadata": {},
   "source": [
    "## 3. 신약개발에 AI를 적용하는 사례 분석\n",
    "### 신약개발 프로세스 중 AI를 적용할 수 있는 예시는 아래와 같음\n",
    "- 약물 후보물질 발굴 : VAE, GAN, Diffusion 모델을 활용해 기존 약물과 유사한 구조를 가진 후보물질을 발굴\n",
    "- 후보물질 효능 평가 : 다양한 AI 모델을 통해 생성된 후보물질의 특성, 타겟 단백질과의 결합도 등을 예측\n",
    "- 안정성 평가 : 후보물질의 독성 예측을 통해 안정성을 평가"
   ]
  },
  {
   "cell_type": "markdown",
   "metadata": {},
   "source": [
    "### 신약개발에 AI를 적용하여 성과를 낸 사례는 아래와 같음\n",
    "##### - 얀센(janssen)\n",
    "- 영국 베네볼런트와 인공지능으로 개발한 신약후보물질 임상 2상에 진입\n",
    "##### - 리커젼 파마슈티컬스(RECURSION)\n",
    "- 인공지능 기술을 활용하여 뇌해면상 혈관기현 치료물질 임상 1상 승인 획득\n",
    "##### - 23andME\n",
    "- 소비자의 유전체 빅데이터 기반 인공지능, 머신러닝 기술을 통해 신약개발이 가능한 항체 개발"
   ]
  },
  {
   "cell_type": "markdown",
   "metadata": {},
   "source": [
    "## 4. 신약개발 라이브러리 이해(RDKit, DeepChem)\n",
    "### RDKit\n",
    "- 화학 정보학 분야에서 사용되는 파이썬 오픈소스 라이브러리\n",
    "- 분자 구조를 다루는데 유용\n",
    "- 분자 구조 시각화, 분자 특성(물리적, 화학적) 계산 등의 기능 제공\n",
    "\n",
    "### DeepChem\n",
    "- RDKit과 함께 화학 정보학 분야에서 자주 사용되는 파이썬 오픈소스 라이브러리\n",
    "- 화학 정보학 분야에서 딥러닝을 적용한 연구에 유용\n",
    "- 화합물 데이터에 알맞는 다양한 머신러닝 모델 및 학습 코드 제공"
   ]
  },
  {
   "cell_type": "code",
   "execution_count": 44,
   "metadata": {
    "scrolled": true
   },
   "outputs": [
    {
     "name": "stdout",
     "output_type": "stream",
     "text": [
      "Requirement already satisfied: deepchem in c:\\users\\tonyw\\appdata\\roaming\\python\\python310\\site-packages (2.7.1)\n",
      "Requirement already satisfied: joblib in c:\\users\\tonyw\\appdata\\roaming\\python\\python310\\site-packages (from deepchem) (1.2.0)\n",
      "Requirement already satisfied: numpy>=1.21 in c:\\users\\tonyw\\anaconda3\\envs\\ai_study\\lib\\site-packages (from deepchem) (1.23.5)\n",
      "Requirement already satisfied: pandas in c:\\users\\tonyw\\appdata\\roaming\\python\\python310\\site-packages (from deepchem) (2.0.2)\n",
      "Requirement already satisfied: scikit-learn in c:\\users\\tonyw\\appdata\\roaming\\python\\python310\\site-packages (from deepchem) (1.2.2)\n",
      "Requirement already satisfied: scipy<1.9 in c:\\users\\tonyw\\anaconda3\\envs\\ai_study\\lib\\site-packages (from deepchem) (1.8.1)\n",
      "Requirement already satisfied: rdkit in c:\\users\\tonyw\\appdata\\roaming\\python\\python310\\site-packages (from deepchem) (2023.3.1)\n",
      "Requirement already satisfied: python-dateutil>=2.8.2 in c:\\users\\tonyw\\anaconda3\\envs\\ai_study\\lib\\site-packages (from pandas->deepchem) (2.8.2)\n",
      "Requirement already satisfied: pytz>=2020.1 in c:\\users\\tonyw\\anaconda3\\envs\\ai_study\\lib\\site-packages (from pandas->deepchem) (2023.3)\n",
      "Requirement already satisfied: tzdata>=2022.1 in c:\\users\\tonyw\\anaconda3\\envs\\ai_study\\lib\\site-packages (from pandas->deepchem) (2023.3)\n",
      "Requirement already satisfied: Pillow in c:\\users\\tonyw\\anaconda3\\envs\\ai_study\\lib\\site-packages (from rdkit->deepchem) (9.3.0)\n",
      "Requirement already satisfied: threadpoolctl>=2.0.0 in c:\\users\\tonyw\\anaconda3\\envs\\ai_study\\lib\\site-packages (from scikit-learn->deepchem) (3.1.0)\n",
      "Requirement already satisfied: six>=1.5 in c:\\users\\tonyw\\anaconda3\\envs\\ai_study\\lib\\site-packages (from python-dateutil>=2.8.2->pandas->deepchem) (1.16.0)\n"
     ]
    }
   ],
   "source": [
    "# DeepChem 라이브러리 설치\n",
    "!pip install deepchem"
   ]
  },
  {
   "cell_type": "markdown",
   "metadata": {},
   "source": [
    "### RDKit 간단한 예제\n",
    "- RDKit에는 이번 실습에서 다루지 않은 더욱 많은 기능이 있으며 이후 자세히 다룰 예정"
   ]
  },
  {
   "cell_type": "code",
   "execution_count": null,
   "metadata": {
    "ExecuteTime": {
     "start_time": "2023-07-09T17:32:27.225Z"
    }
   },
   "outputs": [],
   "source": [
    "# import\n",
    "from rdkit import Chem"
   ]
  },
  {
   "cell_type": "code",
   "execution_count": 1,
   "metadata": {
    "ExecuteTime": {
     "end_time": "2023-07-09T17:32:55.722228Z",
     "start_time": "2023-07-09T17:32:55.127783Z"
    }
   },
   "outputs": [
    {
     "name": "stdout",
     "output_type": "stream",
     "text": [
      "mkdir: `data' 디렉토리를 만들 수 없습니다: 파일이 있습니다\n",
      "  % Total    % Received % Xferd  Average Speed   Time    Time     Time  Current\n",
      "                                 Dload  Upload   Total   Spent    Left  Speed\n",
      "100  1447  100  1447    0     0   4205      0 --:--:-- --:--:-- --:--:--  4206\n"
     ]
    }
   ],
   "source": [
    "# 코랩 사용자는 아래 코드로 데이터 다운로드 필요\n",
    "!mkdir data\n",
    "!wget -O ./data/sample.mol https://raw.githubusercontent.com/tonyJSH/AIDD/main/data/sample.mol"
   ]
  },
  {
   "cell_type": "code",
   "execution_count": 2,
   "metadata": {
    "ExecuteTime": {
     "end_time": "2023-07-09T17:00:27.756276Z",
     "start_time": "2023-07-09T17:00:27.628712Z"
    }
   },
   "outputs": [
    {
     "name": "stdout",
     "output_type": "stream",
     "text": [
      "<rdkit.Chem.rdchem.Mol object at 0x7f176616d040>\n"
     ]
    },
    {
     "ename": "OSError",
     "evalue": "Bad input file https://github.com/tonyJSH/AIDD/blob/main/data/sample.mol",
     "output_type": "error",
     "traceback": [
      "\u001b[0;31m---------------------------------------------------------------------------\u001b[0m",
      "\u001b[0;31mOSError\u001b[0m                                   Traceback (most recent call last)",
      "\u001b[0;32m/tmp/ipykernel_94959/3730833654.py\u001b[0m in \u001b[0;36m<module>\u001b[0;34m\u001b[0m\n\u001b[1;32m      6\u001b[0m \u001b[0;34m\u001b[0m\u001b[0m\n\u001b[1;32m      7\u001b[0m \u001b[0;31m# 2. mol file로 생성 (내부 구조를 보고싶다면 메모장에 drag & drop으로 열람 가능)\u001b[0m\u001b[0;34m\u001b[0m\u001b[0;34m\u001b[0m\u001b[0m\n\u001b[0;32m----> 8\u001b[0;31m \u001b[0mm\u001b[0m \u001b[0;34m=\u001b[0m \u001b[0mChem\u001b[0m\u001b[0;34m.\u001b[0m\u001b[0mMolFromMolFile\u001b[0m\u001b[0;34m(\u001b[0m\u001b[0;34m'https://github.com/tonyJSH/AIDD/blob/main/data/sample.mol'\u001b[0m\u001b[0;34m)\u001b[0m \u001b[0;31m# 분자를 구성하는 원소들의 x,y,z 좌표 정보 및 bond 결합의 정보를 담고있는 mol 파일 (2장에서 자세히 다룸)\u001b[0m\u001b[0;34m\u001b[0m\u001b[0;34m\u001b[0m\u001b[0m\n\u001b[0m\u001b[1;32m      9\u001b[0m \u001b[0mprint\u001b[0m\u001b[0;34m(\u001b[0m\u001b[0mm\u001b[0m\u001b[0;34m)\u001b[0m\u001b[0;34m\u001b[0m\u001b[0;34m\u001b[0m\u001b[0m\n\u001b[1;32m     10\u001b[0m \u001b[0;34m\u001b[0m\u001b[0m\n",
      "\u001b[0;31mOSError\u001b[0m: Bad input file https://github.com/tonyJSH/AIDD/blob/main/data/sample.mol"
     ]
    }
   ],
   "source": [
    "# 분자 데이터를 읽고 rdkit.Chem.rdchem.Mol 객체를 생성하는 3가지 방법\n",
    "\n",
    "# 1. SMILE 문자열로 생성\n",
    "m = Chem.MolFromSmiles('Cc1ccccc1') # 해당 문자열은 분자를 표현하는 SMILE 데이터 이며 2장에서 자세히 다룸\n",
    "print(m)\n",
    "\n",
    "# 2. mol file로 생성 (내부 구조를 보고싶다면 메모장에 drag & drop으로 열람 가능)\n",
    "m = Chem.MolFromMolFile('data/sample.mol') # 분자를 구성하는 원소들의 x,y,z 좌표 정보 및 bond 결합의 정보를 담고있는 mol 파일 (2장에서 자세히 다룸)\n",
    "print(m)\n",
    "\n",
    "# 3 mol file로 생성하는 다른 방법\n",
    "stringWithMolData=open('data/sample.mol','r').read()\n",
    "m = Chem.MolFromMolBlock(stringWithMolData)\n",
    "print(m)"
   ]
  },
  {
   "cell_type": "code",
   "execution_count": 16,
   "metadata": {},
   "outputs": [
    {
     "name": "stdout",
     "output_type": "stream",
     "text": [
      "None\n"
     ]
    },
    {
     "name": "stderr",
     "output_type": "stream",
     "text": [
      "[18:09:44] SMILES Parse Error: syntax error while parsing: Cc1ccccc1abcde\n",
      "[18:09:44] SMILES Parse Error: Failed parsing SMILES 'Cc1ccccc1abcde' for input: 'Cc1ccccc1abcde'\n"
     ]
    }
   ],
   "source": [
    "# 객체 생성에 실패한다면 None을 반환\n",
    "none_m = Chem.MolFromSmiles('Cc1ccccc1abcde')\n",
    "print(none_m)"
   ]
  },
  {
   "cell_type": "code",
   "execution_count": 18,
   "metadata": {},
   "outputs": [
    {
     "data": {
      "image/png": "[encoded data removed]",
      "text/plain": [
       "<PIL.PngImagePlugin.PngImageFile image mode=RGB size=300x300>"
      ]
     },
     "execution_count": 18,
     "metadata": {},
     "output_type": "execute_result"
    }
   ],
   "source": [
    "# 생성한 rdkit.Chem.rdchem.Mol 객체를 이미지로 시각화\n",
    "from rdkit.Chem import Draw\n",
    "img = Draw.MolToImage(m)\n",
    "img"
   ]
  },
  {
   "cell_type": "code",
   "execution_count": 19,
   "metadata": {},
   "outputs": [
    {
     "data": {
      "text/plain": [
       "7"
      ]
     },
     "execution_count": 19,
     "metadata": {},
     "output_type": "execute_result"
    }
   ],
   "source": [
    "# rdkit.Chem.rdchem.Mol 객체의 원자 개수\n",
    "m.GetNumAtoms()"
   ]
  },
  {
   "cell_type": "code",
   "execution_count": 21,
   "metadata": {},
   "outputs": [
    {
     "name": "stdout",
     "output_type": "stream",
     "text": [
      "\n",
      "     RDKit          2D\n",
      "\n",
      "  7  7  0  0  0  0  0  0  0  0999 V2000\n",
      "    3.0000    0.0000    0.0000 C   0  0  0  0  0  0  0  0  0  0  0  0\n",
      "    1.5000    0.0000    0.0000 C   0  0  0  0  0  0  0  0  0  0  0  0\n",
      "    0.7500   -1.2990    0.0000 C   0  0  0  0  0  0  0  0  0  0  0  0\n",
      "   -0.7500   -1.2990    0.0000 C   0  0  0  0  0  0  0  0  0  0  0  0\n",
      "   -1.5000    0.0000    0.0000 C   0  0  0  0  0  0  0  0  0  0  0  0\n",
      "   -0.7500    1.2990    0.0000 C   0  0  0  0  0  0  0  0  0  0  0  0\n",
      "    0.7500    1.2990    0.0000 C   0  0  0  0  0  0  0  0  0  0  0  0\n",
      "  1  2  1  0\n",
      "  2  3  2  0\n",
      "  3  4  1  0\n",
      "  4  5  2  0\n",
      "  5  6  1  0\n",
      "  6  7  2  0\n",
      "  7  2  1  0\n",
      "M  END\n",
      "\n"
     ]
    }
   ],
   "source": [
    "# SMILE 데이터를 MOL 블록으로 만들기\n",
    "m_smile = Chem.MolFromSmiles('Cc1ccccc1')\n",
    "print(Chem.MolToMolBlock(m_smile))"
   ]
  },
  {
   "cell_type": "code",
   "execution_count": 36,
   "metadata": {},
   "outputs": [
    {
     "name": "stdout",
     "output_type": "stream",
     "text": [
      "0 번째 원소의 고리구조 여부 :  True\n",
      "1 번째 원소의 고리구조 여부 :  True\n",
      "2 번째 원소의 고리구조 여부 :  True\n",
      "3 번째 원소의 고리구조 여부 :  True\n",
      "4 번째 원소의 고리구조 여부 :  True\n",
      "5 번째 원소의 고리구조 여부 :  True\n",
      "6 번째 원소의 고리구조 여부 :  False\n"
     ]
    }
   ],
   "source": [
    "# 분자의 각 원자가 고리 구조인지 확인\n",
    "for i in range(m.GetNumAtoms()): # 원자의 개수만큼 반복\n",
    "    print(f'{i} 번째 원소의 고리구조 여부 : ', m.GetAtomWithIdx(i).IsInRing()) # Cc1ccccc1의 0 ~ 7번의 원자가 고리구조에 포함되는지 True, False로 반환"
   ]
  },
  {
   "cell_type": "markdown",
   "metadata": {},
   "source": [
    "### DeepChem 간단한 예제\n",
    "- 분자의 독성 데이터를 통해 신약의 독성을 예측하는 모델학습 예제\n",
    "- DeepChem의 사용 예시를 위한 코드이며 데이터와 모델을 4장에서 자세히 다룸"
   ]
  },
  {
   "cell_type": "code",
   "execution_count": 3,
   "metadata": {},
   "outputs": [],
   "source": [
    "# import\n",
    "import numpy as np\n",
    "import deepchem as dc"
   ]
  },
  {
   "cell_type": "code",
   "execution_count": 9,
   "metadata": {},
   "outputs": [
    {
     "name": "stderr",
     "output_type": "stream",
     "text": [
      "[19:12:00] WARNING: not removing hydrogen atom without neighbors\n",
      "[19:12:07] WARNING: not removing hydrogen atom without neighbors\n"
     ]
    }
   ],
   "source": [
    "# 데이터 불러오기\n",
    "tox21_tasks, tox21_datasets, transformers = dc.molnet.load_tox21(reload=False) # 분자 독성 데이터\n",
    "train_dataset, valid_dataset, test_dataset = tox21_datasets"
   ]
  },
  {
   "cell_type": "code",
   "execution_count": 18,
   "metadata": {},
   "outputs": [
    {
     "data": {
      "text/plain": [
       "array(['NR-AR', 'NR-AR-LBD', 'NR-AhR', 'NR-Aromatase', 'NR-ER',\n",
       "       'NR-ER-LBD', 'NR-PPAR-gamma', 'SR-ARE', 'SR-ATAD5', 'SR-HSE',\n",
       "       'SR-MMP', 'SR-p53'], dtype='<U13')"
      ]
     },
     "execution_count": 18,
     "metadata": {},
     "output_type": "execute_result"
    }
   ],
   "source": [
    "train_dataset.tasks"
   ]
  },
  {
   "cell_type": "code",
   "execution_count": 11,
   "metadata": {},
   "outputs": [
    {
     "data": {
      "text/plain": [
       "0.4794191678365072"
      ]
     },
     "execution_count": 11,
     "metadata": {},
     "output_type": "execute_result"
    }
   ],
   "source": [
    "# DeepChem에서 제공하는 모델 불러오기\n",
    "model = dc.models.MultitaskClassifier(n_tasks=12, n_features=1024, layer_sizes=[1000])\n",
    "# 모델 학습\n",
    "model.fit(train_dataset, nb_epoch=10)"
   ]
  },
  {
   "cell_type": "code",
   "execution_count": 12,
   "metadata": {},
   "outputs": [
    {
     "name": "stdout",
     "output_type": "stream",
     "text": [
      "{'mean-roc_auc_score': 0.9584828201485042}\n",
      "{'mean-roc_auc_score': 0.6854186260186402}\n"
     ]
    }
   ],
   "source": [
    "# 학습된 모델 검증 (roc_auc score)\n",
    "metric = dc.metrics.Metric(dc.metrics.roc_auc_score, np.mean)\n",
    "train_scores = model.evaluate(train_dataset, [metric], transformers)\n",
    "test_scores = model.evaluate(test_dataset, [metric], transformers)\n",
    "print(train_scores)\n",
    "print(test_scores)"
   ]
  }
 ],
 "metadata": {
  "kernelspec": {
   "display_name": "Python 3 (ipykernel)",
   "language": "python",
   "name": "python3"
  },
  "language_info": {
   "codemirror_mode": {
    "name": "ipython",
    "version": 3
   },
   "file_extension": ".py",
   "mimetype": "text/x-python",
   "name": "python",
   "nbconvert_exporter": "python",
   "pygments_lexer": "ipython3",
   "version": "3.9.7"
  },
  "toc": {
   "base_numbering": "1",
   "nav_menu": {},
   "number_sections": false,
   "sideBar": true,
   "skip_h1_title": false,
   "title_cell": "Table of Contents",
   "title_sidebar": "Contents",
   "toc_cell": false,
   "toc_position": {
    "height": "calc(100% - 180px)",
    "left": "10px",
    "top": "150px",
    "width": "201px"
   },
   "toc_section_display": true,
   "toc_window_display": true
  },
  "varInspector": {
   "cols": {
    "lenName": 16,
    "lenType": 16,
    "lenVar": 40
   },
   "kernels_config": {
    "python": {
     "delete_cmd_postfix": "",
     "delete_cmd_prefix": "del ",
     "library": "var_list.py",
     "varRefreshCmd": "print(var_dic_list())"
    },
    "r": {
     "delete_cmd_postfix": ") ",
     "delete_cmd_prefix": "rm(",
     "library": "var_list.r",
     "varRefreshCmd": "cat(var_dic_list()) "
    }
   },
   "types_to_exclude": [
    "module",
    "function",
    "builtin_function_or_method",
    "instance",
    "_Feature"
   ],
   "window_display": false
  }
 },
 "nbformat": 4,
 "nbformat_minor": 2
}
